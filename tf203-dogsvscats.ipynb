{
  "nbformat": 4,
  "nbformat_minor": 0,
  "metadata": {
    "colab": {
      "provenance": [],
      "authorship_tag": "ABX9TyPb4ygwAGpCddiRnGg44I5a",
      "include_colab_link": true
    },
    "kernelspec": {
      "name": "python3",
      "display_name": "Python 3"
    },
    "language_info": {
      "name": "python"
    }
  },
  "cells": [
    {
      "cell_type": "markdown",
      "metadata": {
        "id": "view-in-github",
        "colab_type": "text"
      },
      "source": [
        "<a href=\"https://colab.research.google.com/github/vkjadon/tf/blob/main/tf203-dogsvscats.ipynb\" target=\"_parent\"><img src=\"https://colab.research.google.com/assets/colab-badge.svg\" alt=\"Open In Colab\"/></a>"
      ]
    },
    {
      "cell_type": "code",
      "execution_count": 2,
      "metadata": {
        "id": "5RgqK_V5l_Js"
      },
      "outputs": [],
      "source": [
        "import tensorflow as tf\n",
        "import os"
      ]
    },
    {
      "cell_type": "code",
      "source": [
        "from google.colab import drive\n",
        "drive.mount('/content/drive')"
      ],
      "metadata": {
        "id": "_2fQQY8pF5tq",
        "outputId": "d677a4eb-6e9d-4287-e443-d51c5e285cf8",
        "colab": {
          "base_uri": "https://localhost:8080/"
        }
      },
      "execution_count": 1,
      "outputs": [
        {
          "output_type": "stream",
          "name": "stdout",
          "text": [
            "Mounted at /content/drive\n"
          ]
        }
      ]
    },
    {
      "cell_type": "code",
      "source": [
        "!pwd"
      ],
      "metadata": {
        "id": "cu5aeaiat0x5",
        "outputId": "e4306eff-b86b-48b1-be6b-0d42459b1e40",
        "colab": {
          "base_uri": "https://localhost:8080/"
        }
      },
      "execution_count": null,
      "outputs": [
        {
          "output_type": "stream",
          "name": "stdout",
          "text": [
            "/content\n"
          ]
        }
      ]
    },
    {
      "cell_type": "code",
      "source": [
        "!ls"
      ],
      "metadata": {
        "id": "h-Au_jE6nZQM",
        "outputId": "4b520e5f-54e8-4a5d-a97b-d6dbded82231",
        "colab": {
          "base_uri": "https://localhost:8080/"
        }
      },
      "execution_count": 6,
      "outputs": [
        {
          "output_type": "stream",
          "name": "stdout",
          "text": [
            "drive  sample_data\n"
          ]
        }
      ]
    },
    {
      "cell_type": "code",
      "source": [],
      "metadata": {
        "id": "zPvl4AZhHNQT"
      },
      "execution_count": null,
      "outputs": []
    },
    {
      "cell_type": "code",
      "source": [
        "import glob"
      ],
      "metadata": {
        "id": "BpHlNy0cGwUB"
      },
      "execution_count": 4,
      "outputs": []
    },
    {
      "cell_type": "code",
      "source": [
        "data_dir = 'drive/MyDrive/datasets/dog-vs-cat/train/'"
      ],
      "metadata": {
        "id": "2ul-IUpGG9Qb"
      },
      "execution_count": 15,
      "outputs": []
    },
    {
      "cell_type": "code",
      "source": [
        "!pwd"
      ],
      "metadata": {
        "id": "432tzoMJHDb3",
        "outputId": "6919b50a-242f-442b-c513-92fa3524a6cc",
        "colab": {
          "base_uri": "https://localhost:8080/"
        }
      },
      "execution_count": 10,
      "outputs": [
        {
          "output_type": "stream",
          "name": "stdout",
          "text": [
            "/content\n"
          ]
        }
      ]
    },
    {
      "cell_type": "code",
      "source": [
        "os.listdir(data_dir)"
      ],
      "metadata": {
        "id": "8gESvrO7IdS2",
        "outputId": "f6c89b7f-247f-4402-9434-89d9f41dd5a0",
        "colab": {
          "base_uri": "https://localhost:8080/"
        }
      },
      "execution_count": 16,
      "outputs": [
        {
          "output_type": "execute_result",
          "data": {
            "text/plain": [
              "['dog', 'cat']"
            ]
          },
          "metadata": {},
          "execution_count": 16
        }
      ]
    },
    {
      "cell_type": "code",
      "source": [
        "os.listdir(os.path.join(data_dir,'cat'))"
      ],
      "metadata": {
        "id": "2Crm1HG6Ivnz"
      },
      "execution_count": null,
      "outputs": []
    },
    {
      "cell_type": "code",
      "source": [
        "for image_class in os.listdir(data_dir):\n",
        "  print(\"Class - \", image_class)\n",
        "  i=0\n",
        "  for image in os.listdir(os.path.join(data_dir, image_class)):\n",
        "    i=i+1\n",
        "  print(i)\n"
      ],
      "metadata": {
        "id": "8_RdGarNJSS7",
        "outputId": "497eca24-6418-4090-df40-4054f5d05400",
        "colab": {
          "base_uri": "https://localhost:8080/"
        }
      },
      "execution_count": 20,
      "outputs": [
        {
          "output_type": "stream",
          "name": "stdout",
          "text": [
            "Class -  dog\n",
            "500\n",
            "Class -  cat\n",
            "501\n"
          ]
        }
      ]
    },
    {
      "cell_type": "code",
      "source": [
        "filename=glob.glob('train/cat/*')\n",
        "print(\"Cats in cat folder of Train \",len(filename))\n",
        "filename=glob.glob('train/dog/*')\n",
        "print(\"Dogs in dog folder of Train \",len(filename))"
      ],
      "metadata": {
        "colab": {
          "base_uri": "https://localhost:8080/"
        },
        "id": "Vuxz58mYx-sf",
        "outputId": "a71ada8d-8f17-40a1-f8ec-8c74dfe81b31"
      },
      "execution_count": 13,
      "outputs": [
        {
          "output_type": "stream",
          "name": "stdout",
          "text": [
            "Cats in cat folder of Train  0\n",
            "Dogs in dog folder of Train  0\n"
          ]
        }
      ]
    },
    {
      "cell_type": "markdown",
      "source": [
        "Whenever we train a model, we need to put the data into a format that the model expects. A karass sequential model receives the data whenever we call the fit function. \n",
        "We create train, valid and test batches by using `ImageDataGenerator` and a directory iterator `flow_from_directory`. This basically creates batches of data from the directories we just created for training, validation and testing."
      ],
      "metadata": {
        "id": "A9LgOl7ZzocB"
      }
    },
    {
      "cell_type": "code",
      "source": [
        "batch_size = 32\n",
        "img_height = 224\n",
        "img_width = 224"
      ],
      "metadata": {
        "id": "-B9kX8cu4Nrk"
      },
      "execution_count": null,
      "outputs": []
    },
    {
      "cell_type": "markdown",
      "source": [
        "So let's focus just on train batches for now. So we're setting train batches equal to image data generator dot flow from directory.\n",
        "But first to image data generator, we are specifying this pre processing function and setting that equal to tf Keras dot applications that VGG 16 dot pre process input.\n",
        "This is a function that is going to apply some type of pre processing on the images before they get passed to the network that we'll be using. And we're processing them in such a way that is equivalent to the way that a very popular\n",
        "model known as VGG 16, we're processing our images in the same format as which images that get passed to this VGG 16 model our process. And we're going to talk about more about this in a future episode.   "
      ],
      "metadata": {
        "id": "U-HP4Sva0K8C"
      }
    },
    {
      "cell_type": "code",
      "source": [
        "train_ds = tf.keras.utils.image_dataset_from_directory(\n",
        "  data_dir,\n",
        "  validation_split=0.2,\n",
        "  subset=\"training\",\n",
        "  seed=123,\n",
        "  image_size=(img_height, img_width),\n",
        "  batch_size=batch_size)"
      ],
      "metadata": {
        "id": "AQnqMLtZ63PJ"
      },
      "execution_count": null,
      "outputs": []
    },
    {
      "cell_type": "markdown",
      "source": [
        "So besides that, when we call flow from directory, this is where we are passing in our actual data and specifying how we want this data to be processed. So we are setting directory equal to train path, which appear we defined the location on disk where our training set was under the train PATH variable. And then we're setting target size equal to 224 by 224.\n",
        "So if you're working with an image data set that has images of varying sizes, or you just want to scale them up or scale them down, this is how you can specify that to happen. And this will resize all images in your data set to be of this height and width before passing them to our network. Now we are specifying our classes, which are just the classes for the potential labels of our data set. So cat or dog, and we are setting our batch size to 10.\n",
        "We do the exact same thing for the validation set. And the test set."
      ],
      "metadata": {
        "id": "zLtjvdBd1NkP"
      }
    },
    {
      "cell_type": "markdown",
      "source": [
        "Everything is the exact same for both of them, except for where each of these sets live on disk as being specified here under the directory parameter.\n",
        "And then the only other difference is here for our test batches. We are specifying this shuffle equals false parameter.\n",
        "Now, this is because whenever we use our test batches later for inference to get our model\n",
        "to predict on images of cats and dogs after training and validation has been completed,\n",
        "we're going to want to look at our prediction results in a confusion matrix like we did in a previous video for a separate data set.\n",
        "And in order to do that, we need to be able to access the unsettled labels for our test\n",
        "set. So that's why we set shuffle equals false for only this set. For both validation and training sets, we do want the data sets to be shuffled."
      ],
      "metadata": {
        "id": "I0Kjawf00yuA"
      }
    }
  ]
}