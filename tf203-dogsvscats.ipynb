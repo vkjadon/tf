{
  "nbformat": 4,
  "nbformat_minor": 0,
  "metadata": {
    "colab": {
      "provenance": [],
      "authorship_tag": "ABX9TyMRBW47t3NobNdJLPN8RteC",
      "include_colab_link": true
    },
    "kernelspec": {
      "name": "python3",
      "display_name": "Python 3"
    },
    "language_info": {
      "name": "python"
    }
  },
  "cells": [
    {
      "cell_type": "markdown",
      "metadata": {
        "id": "view-in-github",
        "colab_type": "text"
      },
      "source": [
        "<a href=\"https://colab.research.google.com/github/vkjadon/tf/blob/main/tf203-dogsvscats.ipynb\" target=\"_parent\"><img src=\"https://colab.research.google.com/assets/colab-badge.svg\" alt=\"Open In Colab\"/></a>"
      ]
    },
    {
      "cell_type": "code",
      "execution_count": 1,
      "metadata": {
        "id": "5RgqK_V5l_Js"
      },
      "outputs": [],
      "source": [
        "import numpy as np\n",
        "import pandas as pd \n",
        "from sklearn.model_selection import train_test_split\n",
        "import matplotlib.pyplot as plt\n",
        "import random\n",
        "import os\n",
        "import shutil\n",
        "import glob\n",
        "\n",
        "import tensorflow as tf\n",
        "from keras.preprocessing.image import ImageDataGenerator\n",
        "from keras.utils import to_categorical"
      ]
    },
    {
      "cell_type": "code",
      "source": [
        "!mkdir ~/.kaggle "
      ],
      "metadata": {
        "id": "f7ICvQZ1nNaG"
      },
      "execution_count": 2,
      "outputs": []
    },
    {
      "cell_type": "code",
      "source": [
        "!cp kaggle.json ~/.kaggle/"
      ],
      "metadata": {
        "id": "3UTPYJBpnOF0"
      },
      "execution_count": 3,
      "outputs": []
    },
    {
      "cell_type": "code",
      "source": [
        "!kaggle competitions download -c dogs-vs-cats"
      ],
      "metadata": {
        "colab": {
          "base_uri": "https://localhost:8080/"
        },
        "id": "ZEZptWM0sYb-",
        "outputId": "411432ff-8507-4a1a-8f4f-5ee9c3ea1ae3"
      },
      "execution_count": 4,
      "outputs": [
        {
          "output_type": "stream",
          "name": "stdout",
          "text": [
            "Warning: Your Kaggle API key is readable by other users on this system! To fix this, you can run 'chmod 600 /root/.kaggle/kaggle.json'\n",
            "Downloading dogs-vs-cats.zip to /content\n",
            " 99% 805M/812M [00:03<00:00, 172MB/s]\n",
            "100% 812M/812M [00:03<00:00, 219MB/s]\n"
          ]
        }
      ]
    },
    {
      "cell_type": "code",
      "source": [
        "!unzip dogs-vs-cats.zip"
      ],
      "metadata": {
        "colab": {
          "base_uri": "https://localhost:8080/"
        },
        "id": "ZcQAO5RUtBei",
        "outputId": "3dc4b3c2-cdbc-47cb-b9bb-506e5fc677f4"
      },
      "execution_count": 5,
      "outputs": [
        {
          "output_type": "stream",
          "name": "stdout",
          "text": [
            "Archive:  dogs-vs-cats.zip\n",
            "  inflating: sampleSubmission.csv    \n",
            "  inflating: test1.zip               \n",
            "  inflating: train.zip               \n"
          ]
        }
      ]
    },
    {
      "cell_type": "code",
      "source": [
        "!unzip train.zip"
      ],
      "metadata": {
        "id": "r8cbIsLRtMoR"
      },
      "execution_count": null,
      "outputs": []
    },
    {
      "cell_type": "code",
      "source": [
        "!ls"
      ],
      "metadata": {
        "id": "h-Au_jE6nZQM",
        "outputId": "070180d3-1adc-49a0-8b99-6ff09c666b48",
        "colab": {
          "base_uri": "https://localhost:8080/"
        }
      },
      "execution_count": 7,
      "outputs": [
        {
          "output_type": "stream",
          "name": "stdout",
          "text": [
            "dogs-vs-cats.zip  sample_data\t\ttest1.zip  train.zip\n",
            "kaggle.json\t  sampleSubmission.csv\ttrain\n"
          ]
        }
      ]
    },
    {
      "cell_type": "code",
      "source": [
        "filename=glob.glob('train/cat*')\n",
        "print(len(filename))"
      ],
      "metadata": {
        "id": "7aJDMv0ps36g",
        "outputId": "40c1f5f0-1f32-409f-dac3-f646a700e6bf",
        "colab": {
          "base_uri": "https://localhost:8080/"
        }
      },
      "execution_count": 8,
      "outputs": [
        {
          "output_type": "stream",
          "name": "stdout",
          "text": [
            "12500\n"
          ]
        }
      ]
    },
    {
      "cell_type": "code",
      "source": [
        "if os.path.isdir('valid/dog') is False:\n",
        "  os.makedirs('valid/dog')\n",
        "  for c in random.sample(glob.glob('train/dog*'),1000):\n",
        "    shutil.move(c,'valid/dog')\n"
      ],
      "metadata": {
        "id": "8Qd4iteToCPd"
      },
      "execution_count": 9,
      "outputs": []
    },
    {
      "cell_type": "code",
      "source": [
        "filename=glob.glob('valid/dog/*')\n",
        "print(len(filename))\n",
        "filename=glob.glob('train/dog*')\n",
        "print(len(filename))"
      ],
      "metadata": {
        "id": "hSWLAZa8tJuR",
        "outputId": "5d9ee5db-ec33-4fea-9ef7-154aabcd0640",
        "colab": {
          "base_uri": "https://localhost:8080/"
        }
      },
      "execution_count": 13,
      "outputs": [
        {
          "output_type": "stream",
          "name": "stdout",
          "text": [
            "1000\n",
            "11500\n"
          ]
        }
      ]
    },
    {
      "cell_type": "code",
      "source": [
        "if os.path.isdir('valid/cat') is False:\n",
        "  os.makedirs('valid/cat')\n",
        "  for c in random.sample(glob.glob('train/cat*'),1000):\n",
        "    shutil.move(c,'valid/cat')"
      ],
      "metadata": {
        "id": "eOYwZtpEv2-5"
      },
      "execution_count": 11,
      "outputs": []
    },
    {
      "cell_type": "code",
      "source": [
        "filename=glob.glob('valid/cat/*')\n",
        "print(len(filename))\n",
        "filename=glob.glob('train/cat*')\n",
        "print(len(filename))"
      ],
      "metadata": {
        "id": "KrffUV-Fv-QL",
        "outputId": "82dd01e2-35e3-4c6c-f086-752a30311b38",
        "colab": {
          "base_uri": "https://localhost:8080/"
        }
      },
      "execution_count": 14,
      "outputs": [
        {
          "output_type": "stream",
          "name": "stdout",
          "text": [
            "1000\n",
            "11500\n"
          ]
        }
      ]
    },
    {
      "cell_type": "code",
      "source": [
        "if os.path.isdir('test/cat') is False:\n",
        "  os.makedirs('test/cat')\n",
        "  for c in random.sample(glob.glob('train/cat*'),500):\n",
        "    shutil.move(c,'test/cat')"
      ],
      "metadata": {
        "id": "0AoTLLDbp2qi"
      },
      "execution_count": 15,
      "outputs": []
    },
    {
      "cell_type": "code",
      "source": [
        "filename=glob.glob('test/cat/*')\n",
        "print(len(filename))\n",
        "filename=glob.glob('train/cat*')\n",
        "print(len(filename))"
      ],
      "metadata": {
        "id": "xOSva45HwZYE",
        "outputId": "166b3266-38a4-4e26-c27b-1b041d12e882",
        "colab": {
          "base_uri": "https://localhost:8080/"
        }
      },
      "execution_count": 16,
      "outputs": [
        {
          "output_type": "stream",
          "name": "stdout",
          "text": [
            "500\n",
            "11000\n"
          ]
        }
      ]
    },
    {
      "cell_type": "code",
      "source": [
        "if os.path.isdir('test/dog') is False:\n",
        "  os.makedirs('test/dog')\n",
        "  for c in random.sample(glob.glob('train/dog*'),500):\n",
        "    shutil.move(c,'test/dog')"
      ],
      "metadata": {
        "id": "vgFUqXetwfVK"
      },
      "execution_count": 17,
      "outputs": []
    },
    {
      "cell_type": "code",
      "source": [
        "filename=glob.glob('test/dog/*')\n",
        "print(len(filename))\n",
        "filename=glob.glob('train/dog*')\n",
        "print(len(filename))"
      ],
      "metadata": {
        "id": "F488Z4aFwnhL",
        "outputId": "3a84e0ab-110c-465a-e17f-a7bfb1a59d35",
        "colab": {
          "base_uri": "https://localhost:8080/"
        }
      },
      "execution_count": 19,
      "outputs": [
        {
          "output_type": "stream",
          "name": "stdout",
          "text": [
            "500\n",
            "11000\n"
          ]
        }
      ]
    },
    {
      "cell_type": "code",
      "source": [
        "if os.path.isdir('train/dog') is False:\n",
        "  os.makedirs('train/dog')\n",
        "  for c in random.sample(glob.glob('train/dog*'),11000):\n",
        "    shutil.move(c,'train/dog')"
      ],
      "metadata": {
        "id": "edoh-O3BtzMe"
      },
      "execution_count": 20,
      "outputs": []
    },
    {
      "cell_type": "code",
      "source": [
        "if os.path.isdir('train/cat') is False:\n",
        "  os.makedirs('train/cat')\n",
        "  for c in random.sample(glob.glob('train/cat*'),11000):\n",
        "    shutil.move(c,'train/cat')"
      ],
      "metadata": {
        "id": "5GuObSlysSfx"
      },
      "execution_count": 21,
      "outputs": []
    },
    {
      "cell_type": "code",
      "source": [
        "filename=glob.glob('train/cat/*')\n",
        "print(\"Cats in Train \",len(filename))\n",
        "filename=glob.glob('train/dog/*')\n",
        "print(\"Dogs in Train \",len(filename))"
      ],
      "metadata": {
        "colab": {
          "base_uri": "https://localhost:8080/"
        },
        "id": "Vuxz58mYx-sf",
        "outputId": "429f7422-9bad-41ed-bd09-7a55a0df2330"
      },
      "execution_count": 24,
      "outputs": [
        {
          "output_type": "stream",
          "name": "stdout",
          "text": [
            "Cats in Train  10999\n",
            "Dogs in Train  10999\n"
          ]
        }
      ]
    },
    {
      "cell_type": "code",
      "source": [],
      "metadata": {
        "id": "OdbEIAyjx7Zi"
      },
      "execution_count": null,
      "outputs": []
    }
  ]
}