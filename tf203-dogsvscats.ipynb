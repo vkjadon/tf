{
  "nbformat": 4,
  "nbformat_minor": 0,
  "metadata": {
    "colab": {
      "provenance": [],
      "authorship_tag": "ABX9TyNWj5Sl/+YGcOwz4fbbor7b",
      "include_colab_link": true
    },
    "kernelspec": {
      "name": "python3",
      "display_name": "Python 3"
    },
    "language_info": {
      "name": "python"
    }
  },
  "cells": [
    {
      "cell_type": "markdown",
      "metadata": {
        "id": "view-in-github",
        "colab_type": "text"
      },
      "source": [
        "<a href=\"https://colab.research.google.com/github/vkjadon/tf/blob/main/tf203-dogsvscats.ipynb\" target=\"_parent\"><img src=\"https://colab.research.google.com/assets/colab-badge.svg\" alt=\"Open In Colab\"/></a>"
      ]
    },
    {
      "cell_type": "code",
      "execution_count": 2,
      "metadata": {
        "id": "5RgqK_V5l_Js"
      },
      "outputs": [],
      "source": [
        "import tensorflow as tf\n",
        "import os"
      ]
    },
    {
      "cell_type": "code",
      "source": [
        "from google.colab import drive\n",
        "drive.mount('/content/drive')"
      ],
      "metadata": {
        "colab": {
          "base_uri": "https://localhost:8080/"
        },
        "id": "_2fQQY8pF5tq",
        "outputId": "d677a4eb-6e9d-4287-e443-d51c5e285cf8"
      },
      "execution_count": 1,
      "outputs": [
        {
          "output_type": "stream",
          "name": "stdout",
          "text": [
            "Mounted at /content/drive\n"
          ]
        }
      ]
    },
    {
      "cell_type": "code",
      "source": [
        "!pwd"
      ],
      "metadata": {
        "id": "cu5aeaiat0x5",
        "outputId": "e4306eff-b86b-48b1-be6b-0d42459b1e40",
        "colab": {
          "base_uri": "https://localhost:8080/"
        }
      },
      "execution_count": null,
      "outputs": [
        {
          "output_type": "stream",
          "name": "stdout",
          "text": [
            "/content\n"
          ]
        }
      ]
    },
    {
      "cell_type": "code",
      "source": [
        "!ls"
      ],
      "metadata": {
        "id": "h-Au_jE6nZQM",
        "outputId": "4b520e5f-54e8-4a5d-a97b-d6dbded82231",
        "colab": {
          "base_uri": "https://localhost:8080/"
        }
      },
      "execution_count": 6,
      "outputs": [
        {
          "output_type": "stream",
          "name": "stdout",
          "text": [
            "drive  sample_data\n"
          ]
        }
      ]
    },
    {
      "cell_type": "code",
      "source": [],
      "metadata": {
        "id": "zPvl4AZhHNQT"
      },
      "execution_count": null,
      "outputs": []
    },
    {
      "cell_type": "code",
      "source": [
        "import glob"
      ],
      "metadata": {
        "id": "BpHlNy0cGwUB"
      },
      "execution_count": 4,
      "outputs": []
    },
    {
      "cell_type": "code",
      "source": [
        "data_dir = 'drive/MyDrive/datasets/dog-vs-cat/train/'"
      ],
      "metadata": {
        "id": "2ul-IUpGG9Qb"
      },
      "execution_count": 15,
      "outputs": []
    },
    {
      "cell_type": "code",
      "source": [
        "!pwd"
      ],
      "metadata": {
        "colab": {
          "base_uri": "https://localhost:8080/"
        },
        "id": "432tzoMJHDb3",
        "outputId": "6919b50a-242f-442b-c513-92fa3524a6cc"
      },
      "execution_count": 10,
      "outputs": [
        {
          "output_type": "stream",
          "name": "stdout",
          "text": [
            "/content\n"
          ]
        }
      ]
    },
    {
      "cell_type": "code",
      "source": [
        "os.listdir(data_dir)"
      ],
      "metadata": {
        "colab": {
          "base_uri": "https://localhost:8080/"
        },
        "id": "8gESvrO7IdS2",
        "outputId": "f6c89b7f-247f-4402-9434-89d9f41dd5a0"
      },
      "execution_count": 16,
      "outputs": [
        {
          "output_type": "execute_result",
          "data": {
            "text/plain": [
              "['dog', 'cat']"
            ]
          },
          "metadata": {},
          "execution_count": 16
        }
      ]
    },
    {
      "cell_type": "code",
      "source": [
        "os.listdir(os.path.join(data_dir,'cat'))"
      ],
      "metadata": {
        "id": "2Crm1HG6Ivnz"
      },
      "execution_count": null,
      "outputs": []
    },
    {
      "cell_type": "code",
      "source": [
        "for image_class in os.listdir(data_dir):\n",
        "  print(\"Class - \", image_class)\n",
        "  i=0\n",
        "  for image in os.listdir(os.path.join(data_dir, image_class)):\n",
        "    i=i+1\n",
        "  print(i)\n"
      ],
      "metadata": {
        "colab": {
          "base_uri": "https://localhost:8080/"
        },
        "id": "8_RdGarNJSS7",
        "outputId": "497eca24-6418-4090-df40-4054f5d05400"
      },
      "execution_count": 20,
      "outputs": [
        {
          "output_type": "stream",
          "name": "stdout",
          "text": [
            "Class -  dog\n",
            "500\n",
            "Class -  cat\n",
            "501\n"
          ]
        }
      ]
    },
    {
      "cell_type": "code",
      "source": [
        "import cv2"
      ],
      "metadata": {
        "id": "RQ8yjBA_LVsB"
      },
      "execution_count": 21,
      "outputs": []
    },
    {
      "cell_type": "markdown",
      "source": [
        "## Change Path (we can aslo use `cd`)\n",
        "The below method will store the path in `image_path`. Can aslo directly do by storing the string in the variable as we did for `data_dir`."
      ],
      "metadata": {
        "id": "FcJlv95DMcKu"
      }
    },
    {
      "cell_type": "code",
      "source": [
        "image_path=os.path.join(data_dir, 'cat')\n",
        "print(type(image_path))\n",
        "print(image_path)"
      ],
      "metadata": {
        "id": "IMS-yYmpKkT2",
        "outputId": "d7750758-f430-48bc-a5c8-2927fff2f20d",
        "colab": {
          "base_uri": "https://localhost:8080/"
        }
      },
      "execution_count": 30,
      "outputs": [
        {
          "output_type": "stream",
          "name": "stdout",
          "text": [
            "<class 'str'>\n",
            "drive/MyDrive/datasets/dog-vs-cat/train/cat\n"
          ]
        }
      ]
    },
    {
      "cell_type": "markdown",
      "source": [
        "##Show list in the files in the above directory"
      ],
      "metadata": {
        "id": "SqC5aBpVMUgh"
      }
    },
    {
      "cell_type": "code",
      "source": [
        "image_list=os.listdir(image_path)\n",
        "print(image_list)"
      ],
      "metadata": {
        "id": "llbe7df4MFqH",
        "outputId": "bba9931d-713c-4982-9e3a-0fc3159952cb",
        "colab": {
          "base_uri": "https://localhost:8080/"
        }
      },
      "execution_count": 29,
      "outputs": [
        {
          "output_type": "stream",
          "name": "stdout",
          "text": [
            "['cat.10018.jpg', 'cat.10030.jpg', 'cat.10025.jpg', 'cat.1007.jpg', 'cat.1010.jpg', 'cat.10146.jpg', 'cat.10151.jpg', 'cat.10144.jpg', 'cat.10152.jpg', 'cat.10150.jpg', 'cat.1013.jpg', 'cat.10145.jpg', 'cat.1012.jpg', 'cat.10193.jpg', 'cat.10179.jpg', 'cat.10178.jpg', 'cat.10191.jpg', 'cat.10187.jpg', 'cat.10233.jpg', 'cat.10232.jpg', 'cat.10344.jpg', 'cat.10346.jpg', 'cat.10350.jpg', 'cat.10352.jpg', 'cat.10391.jpg', 'cat.1038.jpg', 'cat.10385.jpg', 'cat.10421.jpg', 'cat.10436.jpg', 'cat.10554.jpg', 'cat.10596.jpg', 'cat.10555.jpg', 'cat.10568.jpg', 'cat.10582.jpg', 'cat.10597.jpg', 'cat.10608.jpg', 'cat.10634.jpg', 'cat.10620.jpg', 'cat.10637.jpg', 'cat.10623.jpg', 'cat.10757.jpg', 'cat.10805.jpg', 'cat.10781.jpg', 'cat.10795.jpg', 'cat.10839.jpg', 'cat.10807.jpg', 'cat.10813.jpg', 'cat.10959.jpg', 'cat.10964.jpg', 'cat.10970.jpg', 'cat.11070.jpg', 'cat.11059.jpg', 'cat.11058.jpg', 'cat.11066.jpg', 'cat.11064.jpg', 'cat.11105.jpg', 'cat.11111.jpg', 'cat.11104.jpg', 'cat.11138.jpg', 'cat.11258.jpg', 'cat.11264.jpg', 'cat.11312.jpg', 'cat.11270.jpg', 'cat.11267.jpg', 'cat.11273.jpg', 'cat.11460.jpg', 'cat.11515.jpg', 'cat.11514.jpg', 'cat.11502.jpg', 'cat.11516.jpg', 'cat.11529.jpg', 'cat.11663.jpg', 'cat.1167.jpg', 'cat.11662.jpg', 'cat.11728.jpg', 'cat.11716.jpg', 'cat.11689.jpg', 'cat.11851.jpg', 'cat.11878.jpg', 'cat.11930.jpg', 'cat.11931.jpg', 'cat.11919.jpg', 'cat.11918.jpg', 'cat.1198.jpg', 'cat.12021.jpg', 'cat.12020.jpg', 'cat.12034.jpg', 'cat.12037.jpg', 'cat.1206.jpg', 'cat.1204.jpg', 'cat.12035.jpg', 'cat.12141.jpg', 'cat.1212.jpg', 'cat.12140.jpg', 'cat.12155.jpg', 'cat.12197.jpg', 'cat.12196.jpg', 'cat.12169.jpg', 'cat.12222.jpg', 'cat.12209.jpg', 'cat.12237.jpg', 'cat.12236.jpg', 'cat.12235.jpg', 'cat.12357.jpg', 'cat.12343.jpg', 'cat.12356.jpg', 'cat.12342.jpg', 'cat.1239.jpg', 'cat.12381.jpg', 'cat.12380.jpg', 'cat.1238.jpg', 'cat.12425.jpg', 'cat.1359.jpg', 'cat.1365.jpg', 'cat.1416.jpg', 'cat.1417.jpg', 'cat.1562.jpg', 'cat.1548.jpg', 'cat.1576.jpg', 'cat.1589.jpg', 'cat.1614.jpg', 'cat.1601.jpg', 'cat.1628.jpg', 'cat.167.jpg', 'cat.166.jpg', 'cat.1760.jpg', 'cat.172.jpg', 'cat.1749.jpg', 'cat.1774.jpg', 'cat.1775.jpg', 'cat.18.jpg', 'cat.1826.jpg', 'cat.1833.jpg', 'cat.1827.jpg', 'cat.1947.jpg', 'cat.1946.jpg', 'cat.1990.jpg', 'cat.1991.jpg', 'cat.1984.jpg', 'cat.198.jpg', 'cat.1986.jpg', 'cat.2055.jpg', 'cat.2056.jpg', 'cat.2042.jpg', 'cat.204.jpg', 'cat.2057.jpg', 'cat.2069.jpg', 'cat.2041.jpg', 'cat.2095.jpg', 'cat.211.jpg', 'cat.2123.jpg', 'cat.2094.jpg', 'cat.2122.jpg', 'cat.2082.jpg', 'cat.2080.jpg', 'cat.2241.jpg', 'cat.2283.jpg', 'cat.2255.jpg', 'cat.2296.jpg', 'cat.2254.jpg', 'cat.2335.jpg', 'cat.2334.jpg', 'cat.239.jpg', 'cat.24.jpg', 'cat.2452.jpg', 'cat.2453.jpg', 'cat.2447.jpg', 'cat.2532.jpg', 'cat.2519.jpg', 'cat.2531.jpg', 'cat.25.jpg', 'cat.2491.jpg', 'cat.2490.jpg', 'cat.2651.jpg', 'cat.2645.jpg', 'cat.2719.jpg', 'cat.2725.jpg', 'cat.2727.jpg', 'cat.2731.jpg', 'cat.2863.jpg', 'cat.2876.jpg', 'cat.2928.jpg', 'cat.2900.jpg', 'cat.2916.jpg', 'cat.30.jpg', 'cat.3017.jpg', 'cat.3016.jpg', 'cat.3163.jpg', 'cat.3161.jpg', 'cat.3201.jpg', 'cat.3175.jpg', 'cat.3189.jpg', 'cat.3200.jpg', 'cat.3177.jpg', 'cat.3361.jpg', 'cat.3348.jpg', 'cat.3349.jpg', 'cat.3407.jpg', 'cat.3405.jpg', 'cat.3377.jpg', 'cat.3406.jpg', 'cat.3388.jpg', 'cat.3363.jpg', 'cat.3413.jpg', 'cat.3439.jpg', 'cat.3412.jpg', 'cat.3567.jpg', 'cat.3566.jpg', 'cat.358.jpg', 'cat.3572.jpg', 'cat.3573.jpg', 'cat.3613.jpg', 'cat.359.jpg', 'cat.364.jpg', 'cat.3638.jpg', 'cat.3598.jpg', 'cat.370.jpg', 'cat.3822.jpg', 'cat.3765.jpg', 'cat.3764.jpg', 'cat.3837.jpg', 'cat.3956.jpg', 'cat.3943.jpg', 'cat.3957.jpg', 'cat.3981.jpg', 'cat.4037.jpg', 'cat.3995.jpg', 'cat.4036.jpg', 'cat.4154.jpg', 'cat.4157.jpg', 'cat.4156.jpg', 'cat.4143.jpg', 'cat.4180.jpg', 'cat.417.jpg', 'cat.4181.jpg', 'cat.4221.jpg', 'cat.4340.jpg', 'cat.4354.jpg', 'cat.4369.jpg', 'cat.4383.jpg', 'cat.4355.jpg', 'cat.4342.jpg', 'cat.4395.jpg', 'cat.4382.jpg', 'cat.4396.jpg', 'cat.4418.jpg', 'cat.4426.jpg', 'cat.4430.jpg', 'cat.4427.jpg', 'cat.4432.jpg', 'cat.4547.jpg', 'cat.4553.jpg', 'cat.4591.jpg', 'cat.4585.jpg', 'cat.4626.jpg', 'cat.4624.jpg', 'cat.4625.jpg', 'cat.4630.jpg', 'cat.4744.jpg', 'cat.4787.jpg', 'cat.4778.jpg', 'cat.4786.jpg', 'cat.4817.jpg', 'cat.4792.jpg', 'cat.4816.jpg', 'cat.4802.jpg', 'cat.4803.jpg', 'cat.4977.jpg', 'cat.4962.jpg', 'cat.5.jpg', 'cat.4988.jpg', 'cat.5077.jpg', 'cat.5062.jpg', 'cat.5060.jpg', 'cat.5088.jpg', 'cat.5074.jpg', 'cat.5048.jpg', 'cat.5102.jpg', 'cat.5116.jpg', 'cat.5261.jpg', 'cat.5249.jpg', 'cat.5248.jpg', 'cat.5262.jpg', 'cat.5274.jpg', 'cat.5275.jpg', 'cat.5301.jpg', 'cat.5276.jpg', 'cat.5300.jpg', 'cat.5328.jpg', 'cat.5504.jpg', 'cat.5513.jpg', 'cat.5507.jpg', 'cat.5498.jpg', 'cat.5538.jpg', 'cat.5499.jpg', 'cat.5671.jpg', 'cat.5712.jpg', 'cat.5704.jpg', 'cat.5710.jpg', 'cat.5706.jpg', 'cat.5665.jpg', 'cat.5705.jpg', 'cat.577.jpg', 'cat.5856.jpg', 'cat.5843.jpg', 'cat.588.jpg', 'cat.589.jpg', 'cat.5922.jpg', 'cat.5936.jpg', 'cat.5909.jpg', 'cat.5937.jpg', 'cat.5921.jpg', 'cat.6.jpg', 'cat.6026.jpg', 'cat.6019.jpg', 'cat.6033.jpg', 'cat.6027.jpg', 'cat.6032.jpg', 'cat.6152.jpg', 'cat.6147.jpg', 'cat.6219.jpg', 'cat.6224.jpg', 'cat.6230.jpg', 'cat.6233.jpg', 'cat.628.jpg', 'cat.629.jpg', 'cat.6345.jpg', 'cat.6379.jpg', 'cat.6350.jpg', 'cat.6386.jpg', 'cat.6392.jpg', 'cat.6422.jpg', 'cat.6423.jpg', 'cat.6555.jpg', 'cat.6541.jpg', 'cat.6557.jpg', 'cat.6580.jpg', 'cat.6582.jpg', 'cat.6569.jpg', 'cat.6594.jpg', 'cat.6581.jpg', 'cat.6621.jpg', 'cat.6634.jpg', 'cat.6741.jpg', 'cat.6782.jpg', 'cat.6757.jpg', 'cat.6755.jpg', 'cat.6783.jpg', 'cat.6797.jpg', 'cat.6796.jpg', 'cat.6807.jpg', 'cat.6812.jpg', 'cat.6813.jpg', 'cat.6806.jpg', 'cat.6967.jpg', 'cat.6966.jpg', 'cat.6998.jpg', 'cat.7.jpg', 'cat.6999.jpg', 'cat.6972.jpg', 'cat.7067.jpg', 'cat.7073.jpg', 'cat.7113.jpg', 'cat.7099.jpg', 'cat.7106.jpg', 'cat.7111.jpg', 'cat.7098.jpg', 'cat.7105.jpg', 'cat.7107.jpg', 'cat.7112.jpg', 'cat.7139.jpg', 'cat.7270.jpg', 'cat.7258.jpg', 'cat.7265.jpg', 'cat.7304.jpg', 'cat.7313.jpg', 'cat.7311.jpg', 'cat.7339.jpg', 'cat.7489.jpg', 'cat.7476.jpg', 'cat.7463.jpg', 'cat.7503.jpg', 'cat.7477.jpg', 'cat.7461.jpg', 'cat.7475.jpg', 'cat.7517.jpg', 'cat.7516.jpg', 'cat.760.jpg', 'cat.761.jpg', 'cat.7675.jpg', 'cat.7663.jpg', 'cat.7648.jpg', 'cat.7661.jpg', 'cat.7649.jpg', 'cat.7700.jpg', 'cat.7688.jpg', 'cat.7729.jpg', 'cat.7714.jpg', 'cat.7701.jpg', 'cat.7728.jpg', 'cat.776.jpg', 'cat.775.jpg', 'cat.7844.jpg', 'cat.7847.jpg', 'cat.7850.jpg', 'cat.7887.jpg', 'cat.7891.jpg', 'cat.7885.jpg', 'cat.7878.jpg', 'cat.7884.jpg', 'cat.7926.jpg', 'cat.7927.jpg', 'cat.7932.jpg', 'cat.8034.jpg', 'cat.8036.jpg', 'cat.8022.jpg', 'cat.8037.jpg', 'cat.8180.jpg', 'cat.8220.jpg', 'cat.8235.jpg', 'cat.8236.jpg', 'cat.8208.jpg', 'cat.8209.jpg', 'cat.8194.jpg', 'cat.8221.jpg', 'cat.8195.jpg', 'cat.8222.jpg', 'cat.827.jpg', 'cat.826.jpg', 'cat.833.jpg', 'cat.8354.jpg', 'cat.8427.jpg', 'cat.8433.jpg', 'cat.8432.jpg', 'cat.8550.jpg', 'cat.8547.jpg', 'cat.8553.jpg', 'cat.8552.jpg', 'cat.8585.jpg', 'cat.8624.jpg', 'cat.8590.jpg', 'cat.8619.jpg', 'cat.8593.jpg', 'cat.8625.jpg', 'cat.8591.jpg', 'cat.8745.jpg', 'cat.8792.jpg', 'cat.8803.jpg', 'cat.8778.jpg', 'cat.8751.jpg', 'cat.8752.jpg', 'cat.8793.jpg', 'cat.8779.jpg', 'cat.8816.jpg', 'cat.8963.jpg', 'cat.8988.jpg', 'cat.8976.jpg', 'cat.8989.jpg', 'cat.9062.jpg', 'cat.9077.jpg', 'cat.9117.jpg', 'cat.9102.jpg', 'cat.9100.jpg', 'cat.9076.jpg', 'cat.9128.jpg', 'cat.9261.jpg', 'cat.9260.jpg', 'cat.9300.jpg', 'cat.9301.jpg', 'cat.9466.jpg', 'cat.9470.jpg', 'cat.9473.jpg', 'cat.9472.jpg', 'cat.9464.jpg', 'cat.9458.jpg', 'cat.9512.jpg', 'cat.952.jpg', 'cat.951.jpg', 'cat.9498.jpg', 'cat.9513.jpg', 'cat.9507.jpg', 'cat.9670.jpg', 'cat.9704.jpg', 'cat.9664.jpg', 'cat.9672.jpg', 'cat.9666.jpg', 'cat.9738.jpg', 'cat.979.jpg', 'cat.9880.jpg', 'cat.9857.jpg', 'cat.9841.jpg', 'cat.9843.jpg', 'cat.9869.jpg', 'cat.986.jpg', 'cat.9855.jpg', 'cat.985.jpg', 'cat.9896.jpg', 'cat.990.jpg', 'cat.9923.jpg', 'cat.9894.jpg', 'cat.9937.jpg']\n"
          ]
        }
      ]
    },
    {
      "cell_type": "code",
      "source": [
        "import random"
      ],
      "metadata": {
        "id": "7Ai0grMQNQnL"
      },
      "execution_count": 31,
      "outputs": []
    },
    {
      "cell_type": "code",
      "source": [
        "random_image=random.choice(os.listdir(image_path))\n",
        "print(random_image)"
      ],
      "metadata": {
        "id": "X0CM5F7XMT4D",
        "outputId": "93a65218-3080-4426-e4ca-72e3035b653d",
        "colab": {
          "base_uri": "https://localhost:8080/"
        }
      },
      "execution_count": 37,
      "outputs": [
        {
          "output_type": "stream",
          "name": "stdout",
          "text": [
            "cat.9937.jpg\n"
          ]
        }
      ]
    },
    {
      "cell_type": "code",
      "source": [
        "batch_size = 32\n",
        "img_height = 224\n",
        "img_width = 224"
      ],
      "metadata": {
        "id": "-B9kX8cu4Nrk"
      },
      "execution_count": null,
      "outputs": []
    },
    {
      "cell_type": "code",
      "source": [
        "train_ds = tf.keras.utils.image_dataset_from_directory(\n",
        "  data_dir,\n",
        "  validation_split=0.2,\n",
        "  subset=\"training\",\n",
        "  seed=123,\n",
        "  image_size=(img_height, img_width),\n",
        "  batch_size=batch_size)"
      ],
      "metadata": {
        "id": "AQnqMLtZ63PJ"
      },
      "execution_count": null,
      "outputs": []
    },
    {
      "cell_type": "markdown",
      "source": [
        "So besides that, when we call flow from directory, this is where we are passing in our actual data and specifying how we want this data to be processed. So we are setting directory equal to train path, which appear we defined the location on disk where our training set was under the train PATH variable. And then we're setting target size equal to 224 by 224.\n",
        "So if you're working with an image data set that has images of varying sizes, or you just want to scale them up or scale them down, this is how you can specify that to happen. And this will resize all images in your data set to be of this height and width before passing them to our network. Now we are specifying our classes, which are just the classes for the potential labels of our data set. So cat or dog, and we are setting our batch size to 10.\n",
        "We do the exact same thing for the validation set. And the test set."
      ],
      "metadata": {
        "id": "zLtjvdBd1NkP"
      }
    },
    {
      "cell_type": "markdown",
      "source": [
        "Everything is the exact same for both of them, except for where each of these sets live on disk as being specified here under the directory parameter.\n",
        "And then the only other difference is here for our test batches. We are specifying this shuffle equals false parameter.\n",
        "Now, this is because whenever we use our test batches later for inference to get our model\n",
        "to predict on images of cats and dogs after training and validation has been completed,\n",
        "we're going to want to look at our prediction results in a confusion matrix like we did in a previous video for a separate data set.\n",
        "And in order to do that, we need to be able to access the unsettled labels for our test\n",
        "set. So that's why we set shuffle equals false for only this set. For both validation and training sets, we do want the data sets to be shuffled."
      ],
      "metadata": {
        "id": "I0Kjawf00yuA"
      }
    }
  ]
}