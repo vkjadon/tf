{
  "nbformat": 4,
  "nbformat_minor": 0,
  "metadata": {
    "colab": {
      "provenance": [],
      "authorship_tag": "ABX9TyP8grYV7uGMq/dN8XUwGcP3",
      "include_colab_link": true
    },
    "kernelspec": {
      "name": "python3",
      "display_name": "Python 3"
    },
    "language_info": {
      "name": "python"
    }
  },
  "cells": [
    {
      "cell_type": "markdown",
      "metadata": {
        "id": "view-in-github",
        "colab_type": "text"
      },
      "source": [
        "<a href=\"https://colab.research.google.com/github/vkjadon/tf/blob/main/tf201.ipynb\" target=\"_parent\"><img src=\"https://colab.research.google.com/assets/colab-badge.svg\" alt=\"Open In Colab\"/></a>"
      ]
    },
    {
      "cell_type": "markdown",
      "source": [
        "#Problem Statement"
      ],
      "metadata": {
        "id": "7iDhdAnJ-JA3"
      }
    },
    {
      "cell_type": "markdown",
      "source": [
        "Let us suppose that an experimental drug was tested on individuals ranging from age 13 to 100. In a clinical trial, this trial had 2100 participants total, half of these participants were under the age of 65. And half were 65 years or older. And the conclusions from this trial was that around 95% of the patients who were in the older population, the 95% of those patients experienced side effects.\n",
        "And around 95% of patients who were under 65 years old, experienced no side effects.\n"
      ],
      "metadata": {
        "id": "KrXYK_NU3lNP"
      }
    },
    {
      "cell_type": "code",
      "execution_count": 288,
      "metadata": {
        "id": "PAQMxy1u2dR3"
      },
      "outputs": [],
      "source": [
        "import numpy as np\n",
        "from random import randint\n",
        "from sklearn.utils import shuffle\n",
        "from sklearn.preprocessing import MinMaxScaler"
      ]
    },
    {
      "cell_type": "markdown",
      "source": [
        "#Create Training Data "
      ],
      "metadata": {
        "id": "4YmPy-l3-MN0"
      }
    },
    {
      "cell_type": "code",
      "source": [
        "X_train=[]\n",
        "y_train=[]"
      ],
      "metadata": {
        "id": "bxf5d2d5-Cn0"
      },
      "execution_count": 289,
      "outputs": []
    },
    {
      "cell_type": "code",
      "source": [
        "#The ~5% of youger inividuals (13 to 64) who did experience side effects\n",
        "# 1 for side effect and 0 for no side effect\n",
        "for i in range(50):\n",
        "  random_youger=randint(13,64)\n",
        "  X_train.append(random_youger)\n",
        "  y_train.append(1)\n",
        "print(X_train)\n",
        "print(y_train)"
      ],
      "metadata": {
        "colab": {
          "base_uri": "https://localhost:8080/"
        },
        "id": "UDGu6gSd-8Xk",
        "outputId": "8c50d571-7912-49d4-f1ac-dda28387f4a2"
      },
      "execution_count": 290,
      "outputs": [
        {
          "output_type": "stream",
          "name": "stdout",
          "text": [
            "[17, 60, 46, 50, 55, 62, 38, 22, 30, 63, 62, 30, 56, 30, 45, 38, 39, 64, 25, 18, 41, 32, 28, 13, 21, 34, 62, 30, 64, 31, 41, 46, 55, 31, 21, 64, 38, 52, 33, 32, 38, 42, 44, 16, 17, 58, 29, 56, 45, 24]\n",
            "[1, 1, 1, 1, 1, 1, 1, 1, 1, 1, 1, 1, 1, 1, 1, 1, 1, 1, 1, 1, 1, 1, 1, 1, 1, 1, 1, 1, 1, 1, 1, 1, 1, 1, 1, 1, 1, 1, 1, 1, 1, 1, 1, 1, 1, 1, 1, 1, 1, 1]\n"
          ]
        }
      ]
    },
    {
      "cell_type": "code",
      "source": [
        "#The ~5% of older inividuals (65 to 100) who did not experience side effects\n",
        "for i in range(50):\n",
        "  X_train.append(randint(65,100))\n",
        "  y_train.append(0)\n",
        "print(len(X_train))\n",
        "print(len(y_train))"
      ],
      "metadata": {
        "colab": {
          "base_uri": "https://localhost:8080/"
        },
        "id": "HFQQENyfBwUZ",
        "outputId": "d7ab53e6-1599-47ad-910c-90e5b9a76c80"
      },
      "execution_count": 291,
      "outputs": [
        {
          "output_type": "stream",
          "name": "stdout",
          "text": [
            "100\n",
            "100\n"
          ]
        }
      ]
    },
    {
      "cell_type": "code",
      "source": [
        "#The ~95% of younger inividuals (13 to 64) who did not experience side effects\n",
        "for i in range(1000):\n",
        "  X_train.append(randint(13,64))\n",
        "  y_train.append(0)\n",
        "print(len(X_train))\n",
        "print(len(y_train))"
      ],
      "metadata": {
        "colab": {
          "base_uri": "https://localhost:8080/"
        },
        "id": "myZ0qS32_3Ly",
        "outputId": "01f7d1ad-6954-4f86-fc52-813f92172754"
      },
      "execution_count": 292,
      "outputs": [
        {
          "output_type": "stream",
          "name": "stdout",
          "text": [
            "1100\n",
            "1100\n"
          ]
        }
      ]
    },
    {
      "cell_type": "code",
      "source": [
        "#The ~95% of older inividuals (65 to 100) who did experience side effects\n",
        "for i in range(1000):\n",
        "  X_train.append(randint(65,100))\n",
        "  y_train.append(1)\n",
        "print(len(X_train))\n",
        "print(len(y_train))"
      ],
      "metadata": {
        "colab": {
          "base_uri": "https://localhost:8080/"
        },
        "id": "IOBkwa_rCxMt",
        "outputId": "cf6d424a-76ff-4871-861c-c71adbbb5ed6"
      },
      "execution_count": 293,
      "outputs": [
        {
          "output_type": "stream",
          "name": "stdout",
          "text": [
            "2100\n",
            "2100\n"
          ]
        }
      ]
    },
    {
      "cell_type": "code",
      "source": [
        "#for sample in X_train:\n",
        "#  print(sample)"
      ],
      "metadata": {
        "id": "UnTKlQkkDcBd"
      },
      "execution_count": 294,
      "outputs": []
    },
    {
      "cell_type": "code",
      "source": [
        "#for label in y_train:\n",
        "#  print(label)"
      ],
      "metadata": {
        "id": "WrgSaJfqDvT6"
      },
      "execution_count": 295,
      "outputs": []
    },
    {
      "cell_type": "code",
      "source": [
        "type(X_train)"
      ],
      "metadata": {
        "id": "2jnzmIv9kuOd",
        "outputId": "c825c697-a084-4336-e22a-d94596447436",
        "colab": {
          "base_uri": "https://localhost:8080/"
        }
      },
      "execution_count": 296,
      "outputs": [
        {
          "output_type": "execute_result",
          "data": {
            "text/plain": [
              "list"
            ]
          },
          "metadata": {},
          "execution_count": 296
        }
      ]
    },
    {
      "cell_type": "markdown",
      "source": [
        "So we have our data generated. Now we need to process it to be in the format for which we saw the fit function expects, and we discussed the fact that we are going to be passing this data as NumPy arrays to the fit function.\n",
        "So our next step is to go ahead and do that transformation here, where we are taking the\n",
        "train labels list and making that now a NumPy array. Similarly, doing the same thing with the train samples list. "
      ],
      "metadata": {
        "id": "MlcnceOcFUqD"
      }
    },
    {
      "cell_type": "code",
      "source": [
        "X_train=np.array(X_train)\n",
        "y_train=np.array(y_train)"
      ],
      "metadata": {
        "id": "85A_bKItFXlN"
      },
      "execution_count": 297,
      "outputs": []
    },
    {
      "cell_type": "code",
      "source": [
        "type(X_train)"
      ],
      "metadata": {
        "id": "a_PI4aVSk6aY",
        "outputId": "7aef60a4-30dd-4ec4-b568-81aa149b2192",
        "colab": {
          "base_uri": "https://localhost:8080/"
        }
      },
      "execution_count": 298,
      "outputs": [
        {
          "output_type": "execute_result",
          "data": {
            "text/plain": [
              "numpy.ndarray"
            ]
          },
          "metadata": {},
          "execution_count": 298
        }
      ]
    },
    {
      "cell_type": "markdown",
      "source": [
        "And then we use the shuffle function to shuffle both are trained labels and trained samples\n",
        "respective to each other so that we can get rid of any imposed order from the data generation\n",
        "process. "
      ],
      "metadata": {
        "id": "kgBQ6yfDFscw"
      }
    },
    {
      "cell_type": "code",
      "source": [
        "X_train, y_train=shuffle(X_train, y_train)\n",
        "#for label in y_train:\n",
        "#  print(label)"
      ],
      "metadata": {
        "id": "NGEefRRqF1y_"
      },
      "execution_count": 299,
      "outputs": []
    },
    {
      "cell_type": "markdown",
      "source": [
        "Now we are using this min max scalar object to create a feature range ranging from zero to one, which we'll then use in this next line to rescale our data from the current scale of 13 to 100, down to a scale of zero to one, and then this reshaping that we're doing here is just a formality because the fit transform function doesn't accept one D data by default."
      ],
      "metadata": {
        "id": "s8zqEwaXHuWy"
      }
    },
    {
      "cell_type": "code",
      "source": [
        "X_train_normal=MinMaxScaler(feature_range=(0,1)).fit_transform(X_train.reshape(-1,1))\n",
        "print(X_train_normal.shape)"
      ],
      "metadata": {
        "colab": {
          "base_uri": "https://localhost:8080/"
        },
        "id": "71l948OlIBtj",
        "outputId": "dfdb73f8-12ac-4d71-e79a-047177f8b551"
      },
      "execution_count": 300,
      "outputs": [
        {
          "output_type": "stream",
          "name": "stdout",
          "text": [
            "(2100, 1)\n"
          ]
        }
      ]
    },
    {
      "cell_type": "markdown",
      "source": [
        "# Create Model"
      ],
      "metadata": {
        "id": "kYIg6zF4sW-o"
      }
    },
    {
      "cell_type": "code",
      "source": [
        "import tensorflow as tf\n",
        "from tensorflow import keras\n",
        "from keras.models import Sequential\n",
        "from keras.layers import Activation, Dense\n",
        "from keras.optimizers import Adam\n",
        "from keras.metrics import categorical_crossentropy"
      ],
      "metadata": {
        "id": "JMzBuj6snz-r"
      },
      "execution_count": 301,
      "outputs": []
    },
    {
      "cell_type": "markdown",
      "source": [
        "We shall build a sequential model. A sequential model is described as a linear stack of layers. It is the most simple model that we can build using Keras or TensorFlow.  \n",
        "So we are initializing the model as an instance of the sequential class."
      ],
      "metadata": {
        "id": "t5ZjFWZqn4NG"
      }
    },
    {
      "cell_type": "code",
      "source": [
        "model=Sequential([\n",
        "    Dense(16, input_shape=(1,), activation='relu'),\n",
        "    Dense(32, activation='relu'),\n",
        "    Dense(2, activation='softmax')\n",
        "])"
      ],
      "metadata": {
        "id": "7Z4DKdOtsUEo"
      },
      "execution_count": 302,
      "outputs": []
    },
    {
      "cell_type": "markdown",
      "source": [
        "Even if we use input_shape=(50,50,3), when keras sends us messages, or when we print the model summary, it will show (None,50,50,3).  \n",
        "The comma is necessary when you have only one dimension. The comma does not create a second dimension. It's just python notation for creating a tuple that contains only one element. input_shape(728,) is the same as batch_input=(batch_size,728). This means that each sample has 728 values."
      ],
      "metadata": {
        "id": "Kh-C_0s1vMSn"
      }
    },
    {
      "cell_type": "code",
      "source": [
        "model.summary()"
      ],
      "metadata": {
        "colab": {
          "base_uri": "https://localhost:8080/"
        },
        "id": "jbCg5reivYcH",
        "outputId": "cfa6a297-d0bc-4778-e119-1281dd40f95b"
      },
      "execution_count": 303,
      "outputs": [
        {
          "output_type": "stream",
          "name": "stdout",
          "text": [
            "Model: \"sequential_9\"\n",
            "_________________________________________________________________\n",
            " Layer (type)                Output Shape              Param #   \n",
            "=================================================================\n",
            " dense_27 (Dense)            (None, 16)                32        \n",
            "                                                                 \n",
            " dense_28 (Dense)            (None, 32)                544       \n",
            "                                                                 \n",
            " dense_29 (Dense)            (None, 2)                 66        \n",
            "                                                                 \n",
            "=================================================================\n",
            "Total params: 642\n",
            "Trainable params: 642\n",
            "Non-trainable params: 0\n",
            "_________________________________________________________________\n"
          ]
        }
      ]
    },
    {
      "cell_type": "markdown",
      "source": [
        "#Train model\n",
        "[model.compile](https://keras.io/api/models/model_training_apis/) Documentation"
      ],
      "metadata": {
        "id": "xMNrcS0E7rHe"
      }
    },
    {
      "cell_type": "code",
      "source": [
        "model.compile(optimizer=Adam(learning_rate=0.0001), loss='sparse_categorical_crossentropy', metrics=['accuracy'])"
      ],
      "metadata": {
        "id": "Q8GpEPHS6e4G"
      },
      "execution_count": 304,
      "outputs": []
    },
    {
      "cell_type": "code",
      "source": [
        "model.fit(x=X_train_normal, y=y_train, validation_split=0.1, batch_size=10, epochs=30, verbose=2, shuffle=True)"
      ],
      "metadata": {
        "id": "KpMjrcZL8-gF",
        "colab": {
          "base_uri": "https://localhost:8080/"
        },
        "outputId": "fee79e4a-d971-4b96-ed30-ba04cdedfd46"
      },
      "execution_count": 305,
      "outputs": [
        {
          "output_type": "stream",
          "name": "stdout",
          "text": [
            "Epoch 1/30\n",
            "189/189 - 1s - loss: 0.6643 - accuracy: 0.5667 - val_loss: 0.6361 - val_accuracy: 0.6381 - 935ms/epoch - 5ms/step\n",
            "Epoch 2/30\n",
            "189/189 - 0s - loss: 0.6366 - accuracy: 0.6688 - val_loss: 0.6023 - val_accuracy: 0.7238 - 333ms/epoch - 2ms/step\n",
            "Epoch 3/30\n",
            "189/189 - 0s - loss: 0.6060 - accuracy: 0.7317 - val_loss: 0.5665 - val_accuracy: 0.8143 - 370ms/epoch - 2ms/step\n",
            "Epoch 4/30\n",
            "189/189 - 0s - loss: 0.5734 - accuracy: 0.7788 - val_loss: 0.5315 - val_accuracy: 0.8429 - 351ms/epoch - 2ms/step\n",
            "Epoch 5/30\n",
            "189/189 - 0s - loss: 0.5407 - accuracy: 0.8058 - val_loss: 0.4952 - val_accuracy: 0.8619 - 358ms/epoch - 2ms/step\n",
            "Epoch 6/30\n",
            "189/189 - 0s - loss: 0.5077 - accuracy: 0.8307 - val_loss: 0.4613 - val_accuracy: 0.8762 - 381ms/epoch - 2ms/step\n",
            "Epoch 7/30\n",
            "189/189 - 0s - loss: 0.4761 - accuracy: 0.8534 - val_loss: 0.4263 - val_accuracy: 0.8952 - 360ms/epoch - 2ms/step\n",
            "Epoch 8/30\n",
            "189/189 - 0s - loss: 0.4466 - accuracy: 0.8672 - val_loss: 0.3943 - val_accuracy: 0.9095 - 366ms/epoch - 2ms/step\n",
            "Epoch 9/30\n",
            "189/189 - 0s - loss: 0.4197 - accuracy: 0.8735 - val_loss: 0.3668 - val_accuracy: 0.9190 - 329ms/epoch - 2ms/step\n",
            "Epoch 10/30\n",
            "189/189 - 0s - loss: 0.3959 - accuracy: 0.8868 - val_loss: 0.3413 - val_accuracy: 0.9286 - 356ms/epoch - 2ms/step\n",
            "Epoch 11/30\n",
            "189/189 - 0s - loss: 0.3753 - accuracy: 0.8926 - val_loss: 0.3179 - val_accuracy: 0.9286 - 376ms/epoch - 2ms/step\n",
            "Epoch 12/30\n",
            "189/189 - 0s - loss: 0.3575 - accuracy: 0.9000 - val_loss: 0.2989 - val_accuracy: 0.9333 - 449ms/epoch - 2ms/step\n",
            "Epoch 13/30\n",
            "189/189 - 0s - loss: 0.3421 - accuracy: 0.9032 - val_loss: 0.2824 - val_accuracy: 0.9524 - 359ms/epoch - 2ms/step\n",
            "Epoch 14/30\n",
            "189/189 - 0s - loss: 0.3293 - accuracy: 0.9201 - val_loss: 0.2656 - val_accuracy: 0.9524 - 373ms/epoch - 2ms/step\n",
            "Epoch 15/30\n",
            "189/189 - 0s - loss: 0.3187 - accuracy: 0.9185 - val_loss: 0.2533 - val_accuracy: 0.9524 - 310ms/epoch - 2ms/step\n",
            "Epoch 16/30\n",
            "189/189 - 0s - loss: 0.3097 - accuracy: 0.9228 - val_loss: 0.2422 - val_accuracy: 0.9619 - 388ms/epoch - 2ms/step\n",
            "Epoch 17/30\n",
            "189/189 - 0s - loss: 0.3023 - accuracy: 0.9217 - val_loss: 0.2335 - val_accuracy: 0.9619 - 332ms/epoch - 2ms/step\n",
            "Epoch 18/30\n",
            "189/189 - 0s - loss: 0.2959 - accuracy: 0.9270 - val_loss: 0.2249 - val_accuracy: 0.9619 - 343ms/epoch - 2ms/step\n",
            "Epoch 19/30\n",
            "189/189 - 0s - loss: 0.2906 - accuracy: 0.9275 - val_loss: 0.2179 - val_accuracy: 0.9619 - 353ms/epoch - 2ms/step\n",
            "Epoch 20/30\n",
            "189/189 - 0s - loss: 0.2861 - accuracy: 0.9254 - val_loss: 0.2123 - val_accuracy: 0.9619 - 367ms/epoch - 2ms/step\n",
            "Epoch 21/30\n",
            "189/189 - 0s - loss: 0.2822 - accuracy: 0.9328 - val_loss: 0.2050 - val_accuracy: 0.9619 - 348ms/epoch - 2ms/step\n",
            "Epoch 22/30\n",
            "189/189 - 0s - loss: 0.2789 - accuracy: 0.9296 - val_loss: 0.2013 - val_accuracy: 0.9619 - 354ms/epoch - 2ms/step\n",
            "Epoch 23/30\n",
            "189/189 - 0s - loss: 0.2760 - accuracy: 0.9307 - val_loss: 0.1965 - val_accuracy: 0.9619 - 366ms/epoch - 2ms/step\n",
            "Epoch 24/30\n",
            "189/189 - 0s - loss: 0.2735 - accuracy: 0.9328 - val_loss: 0.1920 - val_accuracy: 0.9619 - 369ms/epoch - 2ms/step\n",
            "Epoch 25/30\n",
            "189/189 - 0s - loss: 0.2713 - accuracy: 0.9312 - val_loss: 0.1907 - val_accuracy: 0.9619 - 379ms/epoch - 2ms/step\n",
            "Epoch 26/30\n",
            "189/189 - 0s - loss: 0.2693 - accuracy: 0.9344 - val_loss: 0.1871 - val_accuracy: 0.9619 - 320ms/epoch - 2ms/step\n",
            "Epoch 27/30\n",
            "189/189 - 0s - loss: 0.2676 - accuracy: 0.9360 - val_loss: 0.1839 - val_accuracy: 0.9619 - 344ms/epoch - 2ms/step\n",
            "Epoch 28/30\n",
            "189/189 - 0s - loss: 0.2660 - accuracy: 0.9339 - val_loss: 0.1811 - val_accuracy: 0.9619 - 331ms/epoch - 2ms/step\n",
            "Epoch 29/30\n",
            "189/189 - 0s - loss: 0.2644 - accuracy: 0.9370 - val_loss: 0.1785 - val_accuracy: 0.9619 - 400ms/epoch - 2ms/step\n",
            "Epoch 30/30\n",
            "189/189 - 0s - loss: 0.2632 - accuracy: 0.9370 - val_loss: 0.1762 - val_accuracy: 0.9619 - 317ms/epoch - 2ms/step\n"
          ]
        },
        {
          "output_type": "execute_result",
          "data": {
            "text/plain": [
              "<keras.callbacks.History at 0x7f7163486110>"
            ]
          },
          "metadata": {},
          "execution_count": 305
        }
      ]
    },
    {
      "cell_type": "markdown",
      "source": [
        "#Creating Test Set"
      ],
      "metadata": {
        "id": "b1yMBliv0jyf"
      }
    },
    {
      "cell_type": "code",
      "source": [
        "X_test=[]\n",
        "y_test=[]"
      ],
      "metadata": {
        "id": "GPLbe5sx1Dh_"
      },
      "execution_count": 306,
      "outputs": []
    },
    {
      "cell_type": "code",
      "source": [
        "#The ~5% of of the Test Data (420) youger inividuals (13 to 64) who did experience side effects\n",
        "for i in range(10):\n",
        "  random_younger=randint(13,64)\n",
        "  X_test.append(random_younger)\n",
        "  y_test.append(1)\n",
        "\n",
        "#The ~5% of of the Test Data (420) youger inividuals (65 to 100) who did not experience side effects\n",
        "  random_older=randint(65,100)\n",
        "  X_test.append(random_older)\n",
        "  y_test.append(0)\n",
        "\n",
        "#The ~95% of of the Test Data (420) youger inividuals (13 to 64) who did not experience side effects\n",
        "for i in range(200):\n",
        "  random_younger=randint(13,64)\n",
        "  X_test.append(random_younger)\n",
        "  y_test.append(0)\n",
        "\n",
        "#The ~95% of of the Test Data (420) youger inividuals (65 to 100) who did experience side effects\n",
        "  random_older=randint(65,100)\n",
        "  X_test.append(random_older)\n",
        "  y_test.append(1)\n"
      ],
      "metadata": {
        "id": "YsgueyCc0iTd"
      },
      "execution_count": 307,
      "outputs": []
    },
    {
      "cell_type": "markdown",
      "source": [
        "#Prediction"
      ],
      "metadata": {
        "id": "EPzVdCc596il"
      }
    },
    {
      "cell_type": "code",
      "source": [
        "X_test=np.array(X_test)\n",
        "y_test=np.array(y_test)\n",
        "X_test, y_test=shuffle(X_test, y_test)"
      ],
      "metadata": {
        "id": "FyLYN0TE2vOv"
      },
      "execution_count": 308,
      "outputs": []
    },
    {
      "cell_type": "code",
      "source": [
        "X_test_scaled=MinMaxScaler(feature_range=(0,1)).fit_transform(X_test.reshape(-1,1))"
      ],
      "metadata": {
        "id": "ct5Mmkhe3RXK"
      },
      "execution_count": 309,
      "outputs": []
    },
    {
      "cell_type": "code",
      "source": [
        "predictions=model.predict(X_test_scaled, batch_size=10, verbose=0)"
      ],
      "metadata": {
        "id": "ojxO2K7E9fFO"
      },
      "execution_count": 310,
      "outputs": []
    },
    {
      "cell_type": "markdown",
      "source": [
        "So for each sample in our tests that we are getting a probability that maps to either the patient not experiencing a side effect, or the patient experiencing a side effect.\n",
        "So, let us try to see the output (prediction) for the first sample in our test set:\n"
      ],
      "metadata": {
        "id": "CUFynQWAEMmn"
      }
    },
    {
      "cell_type": "code",
      "source": [
        "print(predictions[3])"
      ],
      "metadata": {
        "colab": {
          "base_uri": "https://localhost:8080/"
        },
        "id": "wJNLqvB_-0Px",
        "outputId": "3eb1a961-d582-4cf3-972a-f4312b4e4af6"
      },
      "execution_count": 311,
      "outputs": [
        {
          "output_type": "stream",
          "name": "stdout",
          "text": [
            "[0.2583858  0.74161416]\n"
          ]
        }
      ]
    },
    {
      "cell_type": "markdown",
      "source": [
        "The first value of the prediction indicates the probability to the patient, not experiencing a side effect, and the second value indicates the probability of the patient experiencing a side effect.\n",
        "\n",
        "So that is how we know that this particular probability maps to not having a side effect because it's in the zeroeth index. And this specific probability maps to having a side effect because it is in the first index.\n",
        "\n"
      ],
      "metadata": {
        "id": "PK74hsUJGhEy"
      }
    },
    {
      "cell_type": "markdown",
      "source": [
        "So, if we're interested in seeing only the most probable prediction for each sample in the test set, then we can run this cell here, which is taking the predictions and getting the index of the prediction with the highest probability.\n",
        "And if we print that out, then we can see that these are a little bit easier to interpret than the previous output. So we can see for the first sample that the prediction is zero, the second sample is a one. And just to confirm, if we go back up here, we can see that the first sample indeed has the higher probability of a label of zero, meaning no side effects. And the second sample has a higher probability of one meaning that the patient did experience\n",
        "a side effect. So from these prediction results, we're able to actually see the underlying predictions."
      ],
      "metadata": {
        "id": "XiiniC2SJbzG"
      }
    },
    {
      "cell_type": "code",
      "source": [
        "predict_index=np.argmax(predictions, axis=1)\n",
        "print(predict_index)"
      ],
      "metadata": {
        "id": "L1MAEVO5Ldu_",
        "outputId": "9cc29021-518a-45a5-ed6b-0c6a1cf7b67b",
        "colab": {
          "base_uri": "https://localhost:8080/"
        }
      },
      "execution_count": 312,
      "outputs": [
        {
          "output_type": "stream",
          "name": "stdout",
          "text": [
            "[0 1 1 1 1 0 0 0 0 0 1 1 1 1 1 0 0 0 0 1 1 0 0 1 0 0 1 1 0 0 1 0 0 0 0 0 0\n",
            " 0 1 0 1 1 0 0 1 0 0 1 0 1 0 0 1 1 1 0 1 1 1 0 0 1 0 1 1 0 1 1 0 1 1 0 1 1\n",
            " 1 1 0 1 1 1 0 1 1 1 1 1 1 1 0 0 0 0 1 1 0 1 0 1 1 1 1 1 0 0 1 0 1 1 0 0 1\n",
            " 1 1 1 1 0 1 0 0 0 0 1 1 0 1 1 0 0 1 0 1 0 0 1 1 1 1 0 1 1 0 0 0 1 1 1 1 1\n",
            " 1 0 0 0 0 0 1 0 0 1 0 1 1 0 1 0 0 1 1 1 0 0 0 1 1 1 1 1 1 1 1 0 1 0 0 1 0\n",
            " 0 0 0 0 1 0 1 0 1 0 0 1 1 0 1 0 1 1 0 0 0 1 1 1 1 0 1 0 1 1 1 1 1 0 1 1 0\n",
            " 0 1 0 1 0 0 0 1 1 0 1 1 1 1 0 0 0 1 0 1 0 0 1 0 1 0 0 1 0 0 0 1 1 0 0 1 1\n",
            " 1 0 1 0 1 0 0 0 1 0 1 0 0 0 1 1 0 0 0 0 0 1 1 1 0 1 1 0 1 1 1 1 0 1 1 0 0\n",
            " 0 0 0 1 1 0 0 1 0 0 1 1 1 1 0 1 1 0 0 1 0 1 1 0 0 1 1 1 1 0 0 1 1 1 1 0 0\n",
            " 0 1 1 1 0 0 1 1 0 0 1 0 0 0 0 0 0 0 0 1 0 1 1 0 0 0 0 0 0 1 0 1 0 0 1 0 0\n",
            " 1 1 1 1 0 0 1 1 1 0 0 1 0 1 1 0 1 0 1 0 0 1 0 1 0 1 1 0 0 1 0 0 1 1 1 0 0\n",
            " 0 0 1 1 1 0 1 1 1 1 1 0 1]\n"
          ]
        }
      ]
    },
    {
      "cell_type": "code",
      "source": [
        "%matplotlib inline\n",
        "from sklearn.metrics import confusion_matrix\n",
        "from sklearn.metrics import plot_confusion_matrix\n",
        "import matplotlib.pyplot as plt"
      ],
      "metadata": {
        "id": "8yHUpFLvyeUc"
      },
      "execution_count": 313,
      "outputs": []
    },
    {
      "cell_type": "markdown",
      "source": [
        "#Confusion Matrix"
      ],
      "metadata": {
        "id": "ooUmpRYB99qC"
      }
    },
    {
      "cell_type": "code",
      "source": [
        "cm=confusion_matrix(y_test, predict_index)"
      ],
      "metadata": {
        "id": "-HO2Bu01zZQD"
      },
      "execution_count": 314,
      "outputs": []
    },
    {
      "cell_type": "code",
      "source": [
        "from mlxtend.plotting import plot_confusion_matrix\n",
        "plot_confusion_matrix(cm)\n",
        "plt.show()"
      ],
      "metadata": {
        "id": "VnlX45mpOfR6",
        "outputId": "796ced2c-84bc-43ea-be59-5fb3d31f1fb5",
        "colab": {
          "base_uri": "https://localhost:8080/",
          "height": 279
        }
      },
      "execution_count": 315,
      "outputs": [
        {
          "output_type": "display_data",
          "data": {
            "text/plain": [
              "<Figure size 432x288 with 1 Axes>"
            ],
            "image/png": "[encoded data removed]"
          },
          "metadata": {
            "needs_background": "light"
          }
        }
      ]
    }
  ]
}
