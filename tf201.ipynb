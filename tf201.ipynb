{
  "nbformat": 4,
  "nbformat_minor": 0,
  "metadata": {
    "colab": {
      "provenance": [],
      "authorship_tag": "ABX9TyNiYjnWaaRemTXZAwF0Y7xy",
      "include_colab_link": true
    },
    "kernelspec": {
      "name": "python3",
      "display_name": "Python 3"
    },
    "language_info": {
      "name": "python"
    }
  },
  "cells": [
    {
      "cell_type": "markdown",
      "metadata": {
        "id": "view-in-github",
        "colab_type": "text"
      },
      "source": [
        "<a href=\"https://colab.research.google.com/github/vkjadon/tf/blob/main/tf201.ipynb\" target=\"_parent\"><img src=\"https://colab.research.google.com/assets/colab-badge.svg\" alt=\"Open In Colab\"/></a>"
      ]
    },
    {
      "cell_type": "markdown",
      "source": [
        "import all the packages"
      ],
      "metadata": {
        "id": "l22W6To5342C"
      }
    },
    {
      "cell_type": "markdown",
      "source": [],
      "metadata": {
        "id": "tFa2_-oDip6_"
      }
    },
    {
      "cell_type": "code",
      "execution_count": 57,
      "metadata": {
        "id": "PAQMxy1u2dR3"
      },
      "outputs": [],
      "source": [
        "import numpy as np\n",
        "from random import randint\n",
        "from sklearn.utils import shuffle\n",
        "from sklearn.preprocessing import MinMaxScaler"
      ]
    },
    {
      "cell_type": "code",
      "source": [
        "X_train=[]\n",
        "y_train=[]"
      ],
      "metadata": {
        "id": "bxf5d2d5-Cn0"
      },
      "execution_count": 58,
      "outputs": []
    },
    {
      "cell_type": "markdown",
      "source": [
        "Let us suppose that an experimental drug was tested on individuals ranging from age 13 to 100. In a clinical trial, this trial had 2100 participants total, half of these participants were under the age of 65. And half were 65 years or older. And the conclusions from this trial was that around 95% of the patients who were in the older population, the 95% of those patients experienced side effects.\n",
        "And around 95% of patients who were under 65 years old, experienced no side effects.\n"
      ],
      "metadata": {
        "id": "KrXYK_NU3lNP"
      }
    },
    {
      "cell_type": "code",
      "source": [
        "#The ~5% of youger inividuals (13 to 64) who did experience side effects\n",
        "# 1 for side effect and 0 for no side effect\n",
        "for i in range(50):\n",
        "  random_youger=randint(13,64)\n",
        "  X_train.append(random_youger)\n",
        "  y_train.append(1)\n",
        "print(X_train)\n",
        "print(y_train)"
      ],
      "metadata": {
        "colab": {
          "base_uri": "https://localhost:8080/"
        },
        "id": "UDGu6gSd-8Xk",
        "outputId": "0ef40ab5-c3c1-4e87-b809-be2707cb1390"
      },
      "execution_count": 59,
      "outputs": [
        {
          "output_type": "stream",
          "name": "stdout",
          "text": [
            "[49, 31, 29, 37, 31, 63, 62, 49, 22, 13, 52, 19, 44, 37, 39, 20, 33, 43, 44, 38, 56, 50, 29, 14, 59, 50, 39, 29, 26, 26, 23, 24, 43, 63, 21, 31, 60, 61, 25, 56, 51, 15, 29, 53, 19, 44, 42, 42, 27, 28]\n",
            "[1, 1, 1, 1, 1, 1, 1, 1, 1, 1, 1, 1, 1, 1, 1, 1, 1, 1, 1, 1, 1, 1, 1, 1, 1, 1, 1, 1, 1, 1, 1, 1, 1, 1, 1, 1, 1, 1, 1, 1, 1, 1, 1, 1, 1, 1, 1, 1, 1, 1]\n"
          ]
        }
      ]
    },
    {
      "cell_type": "code",
      "source": [
        "#The ~5% of older inividuals (65 to 100) who did not experience side effects\n",
        "for i in range(50):\n",
        "  X_train.append(randint(65,100))\n",
        "  y_train.append(0)\n",
        "print(len(X_train))\n",
        "print(len(y_train))"
      ],
      "metadata": {
        "colab": {
          "base_uri": "https://localhost:8080/"
        },
        "id": "HFQQENyfBwUZ",
        "outputId": "19fccad9-a92d-4007-bda9-a72c85115519"
      },
      "execution_count": 60,
      "outputs": [
        {
          "output_type": "stream",
          "name": "stdout",
          "text": [
            "100\n",
            "100\n"
          ]
        }
      ]
    },
    {
      "cell_type": "code",
      "source": [
        "#The ~95% of younger inividuals (13 to 64) who did not experience side effects\n",
        "for i in range(1000):\n",
        "  X_train.append(randint(13,64))\n",
        "  y_train.append(0)\n",
        "print(len(X_train))\n",
        "print(len(y_train))"
      ],
      "metadata": {
        "colab": {
          "base_uri": "https://localhost:8080/"
        },
        "id": "myZ0qS32_3Ly",
        "outputId": "3b021d9d-6acb-4de7-fad0-524265b998e5"
      },
      "execution_count": 61,
      "outputs": [
        {
          "output_type": "stream",
          "name": "stdout",
          "text": [
            "1100\n",
            "1100\n"
          ]
        }
      ]
    },
    {
      "cell_type": "code",
      "source": [
        "#The ~95% of older inividuals (65 to 100) who did experience side effects\n",
        "for i in range(1000):\n",
        "  X_train.append(randint(65,100))\n",
        "  y_train.append(1)\n",
        "print(len(X_train))\n",
        "print(len(y_train))"
      ],
      "metadata": {
        "colab": {
          "base_uri": "https://localhost:8080/"
        },
        "id": "IOBkwa_rCxMt",
        "outputId": "138c529c-40f2-459b-ede7-7b5c112ed418"
      },
      "execution_count": 62,
      "outputs": [
        {
          "output_type": "stream",
          "name": "stdout",
          "text": [
            "2100\n",
            "2100\n"
          ]
        }
      ]
    },
    {
      "cell_type": "code",
      "source": [
        "#for sample in X_train:\n",
        "#  print(sample)"
      ],
      "metadata": {
        "id": "UnTKlQkkDcBd"
      },
      "execution_count": 82,
      "outputs": []
    },
    {
      "cell_type": "code",
      "source": [
        "#for label in y_train:\n",
        "#  print(label)"
      ],
      "metadata": {
        "id": "WrgSaJfqDvT6"
      },
      "execution_count": null,
      "outputs": []
    },
    {
      "cell_type": "code",
      "source": [
        "type(X_train)"
      ],
      "metadata": {
        "id": "2jnzmIv9kuOd",
        "outputId": "6f8a44c4-6def-4105-d455-0426ea8cd555",
        "colab": {
          "base_uri": "https://localhost:8080/"
        }
      },
      "execution_count": 65,
      "outputs": [
        {
          "output_type": "execute_result",
          "data": {
            "text/plain": [
              "list"
            ]
          },
          "metadata": {},
          "execution_count": 65
        }
      ]
    },
    {
      "cell_type": "markdown",
      "source": [
        "So we have our data generated. Now we need to process it to be in the format for which we saw the fit function expects, and we discussed the fact that we are going to be passing this data as NumPy arrays to the fit function.\n",
        "So our next step is to go ahead and do that transformation here, where we are taking the\n",
        "train labels list and making that now a NumPy array. Similarly, doing the same thing with the train samples list. "
      ],
      "metadata": {
        "id": "MlcnceOcFUqD"
      }
    },
    {
      "cell_type": "code",
      "source": [
        "X_train=np.array(X_train)\n",
        "y_train=np.array(y_train)"
      ],
      "metadata": {
        "id": "85A_bKItFXlN"
      },
      "execution_count": 66,
      "outputs": []
    },
    {
      "cell_type": "code",
      "source": [
        "type(X_train)"
      ],
      "metadata": {
        "id": "a_PI4aVSk6aY",
        "outputId": "154e2624-8f04-4529-d0b1-e2287d8221fe",
        "colab": {
          "base_uri": "https://localhost:8080/"
        }
      },
      "execution_count": 67,
      "outputs": [
        {
          "output_type": "execute_result",
          "data": {
            "text/plain": [
              "numpy.ndarray"
            ]
          },
          "metadata": {},
          "execution_count": 67
        }
      ]
    },
    {
      "cell_type": "markdown",
      "source": [
        "And then we use the shuffle function to shuffle both are trained labels and trained samples\n",
        "respective to each other so that we can get rid of any imposed order from the data generation\n",
        "process. "
      ],
      "metadata": {
        "id": "kgBQ6yfDFscw"
      }
    },
    {
      "cell_type": "code",
      "source": [
        "X_train, y_train=shuffle(X_train, y_train)\n",
        "#for label in y_train:\n",
        "#  print(label)"
      ],
      "metadata": {
        "id": "NGEefRRqF1y_"
      },
      "execution_count": 83,
      "outputs": []
    },
    {
      "cell_type": "markdown",
      "source": [
        "Now we are using this min max scalar object to create a feature range ranging from zero to one, which we'll then use in this next line to rescale our data from the current scale of 13 to 100, down to a scale of zero to one, and then this reshaping that we're doing here is just a formality because the fit transform function doesn't accept one D data by default."
      ],
      "metadata": {
        "id": "s8zqEwaXHuWy"
      }
    },
    {
      "cell_type": "code",
      "source": [
        "X_train_normal=MinMaxScaler(feature_range=(0,1)).fit_transform(X_train.reshape(-1,1))\n",
        "print(X_train_normal.shape)"
      ],
      "metadata": {
        "colab": {
          "base_uri": "https://localhost:8080/"
        },
        "id": "71l948OlIBtj",
        "outputId": "dad9d31b-b2f9-4f27-e570-d5f65f6de9d0"
      },
      "execution_count": 69,
      "outputs": [
        {
          "output_type": "stream",
          "name": "stdout",
          "text": [
            "(2100, 1)\n"
          ]
        }
      ]
    },
    {
      "cell_type": "markdown",
      "source": [
        "Import all the packages"
      ],
      "metadata": {
        "id": "kYIg6zF4sW-o"
      }
    },
    {
      "cell_type": "code",
      "source": [
        "import tensorflow as tf\n",
        "from tensorflow import keras\n",
        "from keras.models import Sequential\n",
        "from keras.layers import Activation, Dense\n",
        "from keras.optimizers import Adam\n",
        "from keras.metrics import categorical_crossentropy"
      ],
      "metadata": {
        "id": "JMzBuj6snz-r"
      },
      "execution_count": 70,
      "outputs": []
    },
    {
      "cell_type": "markdown",
      "source": [
        "We shall build a sequential model. A sequential model is described as a linear stack of layers. It is the most simple model that we can build using Keras or TensorFlow.  \n",
        "So we are initializing the model as an instance of the sequential class."
      ],
      "metadata": {
        "id": "t5ZjFWZqn4NG"
      }
    },
    {
      "cell_type": "code",
      "source": [
        "model=Sequential([\n",
        "    Dense(16, input_shape=(1,), activation='relu'),\n",
        "    Dense(32, activation='relu'),\n",
        "    Dense(2, activation='softmax')\n",
        "])"
      ],
      "metadata": {
        "id": "7Z4DKdOtsUEo"
      },
      "execution_count": 71,
      "outputs": []
    },
    {
      "cell_type": "markdown",
      "source": [
        "Even if we use input_shape=(50,50,3), when keras sends us messages, or when we print the model summary, it will show (None,50,50,3).  \n",
        "The comma is necessary when you have only one dimension. The comma does not create a second dimension. It's just python notation for creating a tuple that contains only one element. input_shape(728,) is the same as batch_input=(batch_size,728). This means that each sample has 728 values."
      ],
      "metadata": {
        "id": "Kh-C_0s1vMSn"
      }
    },
    {
      "cell_type": "code",
      "source": [
        "model.summary()"
      ],
      "metadata": {
        "colab": {
          "base_uri": "https://localhost:8080/"
        },
        "id": "jbCg5reivYcH",
        "outputId": "519a8f6d-78c8-4048-b6a5-132026933b2b"
      },
      "execution_count": 72,
      "outputs": [
        {
          "output_type": "stream",
          "name": "stdout",
          "text": [
            "Model: \"sequential_2\"\n",
            "_________________________________________________________________\n",
            " Layer (type)                Output Shape              Param #   \n",
            "=================================================================\n",
            " dense_6 (Dense)             (None, 16)                32        \n",
            "                                                                 \n",
            " dense_7 (Dense)             (None, 32)                544       \n",
            "                                                                 \n",
            " dense_8 (Dense)             (None, 2)                 66        \n",
            "                                                                 \n",
            "=================================================================\n",
            "Total params: 642\n",
            "Trainable params: 642\n",
            "Non-trainable params: 0\n",
            "_________________________________________________________________\n"
          ]
        }
      ]
    },
    {
      "cell_type": "markdown",
      "source": [
        "[model.compile](https://keras.io/api/models/model_training_apis/) Documentation"
      ],
      "metadata": {
        "id": "xMNrcS0E7rHe"
      }
    },
    {
      "cell_type": "code",
      "source": [
        "model.compile(optimizer=Adam(learning_rate=0.0001), loss='sparse_categorical_crossentropy', metrics=['accuracy'])"
      ],
      "metadata": {
        "id": "Q8GpEPHS6e4G"
      },
      "execution_count": 73,
      "outputs": []
    },
    {
      "cell_type": "code",
      "source": [
        "model.fit(x=X_train_normal, y=y_train, validation_split=0.1, batch_size=10, epochs=5, verbose=2, shuffle=True)"
      ],
      "metadata": {
        "id": "KpMjrcZL8-gF",
        "colab": {
          "base_uri": "https://localhost:8080/"
        },
        "outputId": "d1e38db9-05d3-4824-9030-3d4bffec9246"
      },
      "execution_count": 74,
      "outputs": [
        {
          "output_type": "stream",
          "name": "stdout",
          "text": [
            "Epoch 1/5\n",
            "189/189 - 1s - loss: 0.6830 - accuracy: 0.5090 - val_loss: 0.6669 - val_accuracy: 0.6000 - 989ms/epoch - 5ms/step\n",
            "Epoch 2/5\n",
            "189/189 - 0s - loss: 0.6607 - accuracy: 0.5979 - val_loss: 0.6441 - val_accuracy: 0.6714 - 355ms/epoch - 2ms/step\n",
            "Epoch 3/5\n",
            "189/189 - 0s - loss: 0.6408 - accuracy: 0.6381 - val_loss: 0.6223 - val_accuracy: 0.7000 - 378ms/epoch - 2ms/step\n",
            "Epoch 4/5\n",
            "189/189 - 0s - loss: 0.6201 - accuracy: 0.6656 - val_loss: 0.5990 - val_accuracy: 0.7333 - 393ms/epoch - 2ms/step\n",
            "Epoch 5/5\n",
            "189/189 - 0s - loss: 0.5983 - accuracy: 0.7090 - val_loss: 0.5752 - val_accuracy: 0.7571 - 392ms/epoch - 2ms/step\n"
          ]
        },
        {
          "output_type": "execute_result",
          "data": {
            "text/plain": [
              "<keras.callbacks.History at 0x7f7166444bd0>"
            ]
          },
          "metadata": {},
          "execution_count": 74
        }
      ]
    },
    {
      "cell_type": "markdown",
      "source": [
        "#Creating Test Set"
      ],
      "metadata": {
        "id": "b1yMBliv0jyf"
      }
    },
    {
      "cell_type": "code",
      "source": [
        "X_test=[]\n",
        "y_test=[]"
      ],
      "metadata": {
        "id": "GPLbe5sx1Dh_"
      },
      "execution_count": 75,
      "outputs": []
    },
    {
      "cell_type": "code",
      "source": [
        "#The ~5% of of the Test Data (220) youger inividuals (13 to 64) who did experience side effects\n",
        "for i in range(10):\n",
        "  random_younger=randint(13,64)\n",
        "  X_test.append(random_younger)\n",
        "  y_test.append(1)\n",
        "\n",
        "#The ~5% of of the Test Data (220) youger inividuals (65 to 100) who did not experience side effects\n",
        "  random_older=randint(65,100)\n",
        "  X_test.append(random_older)\n",
        "  y_test.append(0)\n",
        "\n",
        "#The ~95% of of the Test Data (220) youger inividuals (13 to 64) who did not experience side effects\n",
        "for i in range(100):\n",
        "  random_younger=randint(13,64)\n",
        "  X_test.append(random_younger)\n",
        "  y_test.append(0)\n",
        "\n",
        "#The ~95% of of the Test Data (220) youger inividuals (65 to 100) who did experience side effects\n",
        "  random_older=randint(65,100)\n",
        "  X_test.append(random_older)\n",
        "  y_test.append(1)\n"
      ],
      "metadata": {
        "id": "YsgueyCc0iTd"
      },
      "execution_count": 76,
      "outputs": []
    },
    {
      "cell_type": "code",
      "source": [
        "X_test=np.array(X_test)\n",
        "y_test=np.array(y_test)\n",
        "X_test, y_test=shuffle(X_test, y_test)"
      ],
      "metadata": {
        "id": "FyLYN0TE2vOv"
      },
      "execution_count": 77,
      "outputs": []
    },
    {
      "cell_type": "code",
      "source": [
        "X_test_scaled=MinMaxScaler(feature_range=(0,1)).fit_transform(X_test.reshape(-1,1))"
      ],
      "metadata": {
        "id": "ct5Mmkhe3RXK"
      },
      "execution_count": 81,
      "outputs": []
    },
    {
      "cell_type": "code",
      "source": [
        "%matplotlib inline\n",
        "from sklearn.metrics import confusion_matrix\n",
        "import matplotlib.pyplot as plt"
      ],
      "metadata": {
        "id": "8yHUpFLvyeUc"
      },
      "execution_count": 78,
      "outputs": []
    },
    {
      "cell_type": "code",
      "source": [
        "cm=confusion_matrix(X_test,y_test)"
      ],
      "metadata": {
        "id": "-HO2Bu01zZQD"
      },
      "execution_count": 79,
      "outputs": []
    }
  ]
}