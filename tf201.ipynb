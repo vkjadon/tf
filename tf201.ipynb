{
  "nbformat": 4,
  "nbformat_minor": 0,
  "metadata": {
    "colab": {
      "provenance": [],
      "authorship_tag": "ABX9TyNSh1lJIOZ1mqtkVKf4gTyG",
      "include_colab_link": true
    },
    "kernelspec": {
      "name": "python3",
      "display_name": "Python 3"
    },
    "language_info": {
      "name": "python"
    }
  },
  "cells": [
    {
      "cell_type": "markdown",
      "metadata": {
        "id": "view-in-github",
        "colab_type": "text"
      },
      "source": [
        "<a href=\"https://colab.research.google.com/github/vkjadon/tf/blob/main/tf201.ipynb\" target=\"_parent\"><img src=\"https://colab.research.google.com/assets/colab-badge.svg\" alt=\"Open In Colab\"/></a>"
      ]
    },
    {
      "cell_type": "markdown",
      "source": [
        "import all the packages"
      ],
      "metadata": {
        "id": "l22W6To5342C"
      }
    },
    {
      "cell_type": "markdown",
      "source": [],
      "metadata": {
        "id": "tFa2_-oDip6_"
      }
    },
    {
      "cell_type": "code",
      "execution_count": 1,
      "metadata": {
        "id": "PAQMxy1u2dR3"
      },
      "outputs": [],
      "source": [
        "import numpy as np\n",
        "from random import randint\n",
        "from sklearn.utils import shuffle\n",
        "from sklearn.preprocessing import MinMaxScaler"
      ]
    },
    {
      "cell_type": "code",
      "source": [
        "X_train=[]\n",
        "y_train=[]"
      ],
      "metadata": {
        "id": "bxf5d2d5-Cn0"
      },
      "execution_count": 2,
      "outputs": []
    },
    {
      "cell_type": "markdown",
      "source": [
        "Let us suppose that an experimental drug was tested on individuals ranging from age 13 to 100. In a clinical trial, this trial had 2100 participants total, half of these participants were under the age of 65. And half were 65 years or older. And the conclusions from this trial was that around 95% of the patients who were in the older population, the 95% of those patients experienced side effects.\n",
        "And around 95% of patients who were under 65 years old, experienced no side effects.\n"
      ],
      "metadata": {
        "id": "KrXYK_NU3lNP"
      }
    },
    {
      "cell_type": "code",
      "source": [
        "#The ~5% of youger inividuals (13 to 64) who did experience side effects\n",
        "# 1 for side effect and 0 for no side effect\n",
        "for i in range(50):\n",
        "  random_youger=randint(13,64)\n",
        "  X_train.append(random_youger)\n",
        "  y_train.append(1)\n",
        "print(X_train)\n",
        "print(y_train)"
      ],
      "metadata": {
        "colab": {
          "base_uri": "https://localhost:8080/"
        },
        "id": "UDGu6gSd-8Xk",
        "outputId": "c2bfeca3-b9bf-43d5-d179-6984c6261e57"
      },
      "execution_count": 3,
      "outputs": [
        {
          "output_type": "stream",
          "name": "stdout",
          "text": [
            "[27, 19, 35, 59, 63, 31, 64, 53, 45, 46, 63, 34, 50, 54, 20, 15, 44, 26, 26, 43, 44, 61, 46, 46, 58, 51, 50, 44, 32, 15, 49, 30, 43, 26, 63, 20, 33, 61, 20, 34, 34, 51, 53, 60, 54, 18, 46, 39, 48, 26]\n",
            "[1, 1, 1, 1, 1, 1, 1, 1, 1, 1, 1, 1, 1, 1, 1, 1, 1, 1, 1, 1, 1, 1, 1, 1, 1, 1, 1, 1, 1, 1, 1, 1, 1, 1, 1, 1, 1, 1, 1, 1, 1, 1, 1, 1, 1, 1, 1, 1, 1, 1]\n"
          ]
        }
      ]
    },
    {
      "cell_type": "code",
      "source": [
        "#The ~5% of older inividuals (65 to 100) who did not experience side effects\n",
        "for i in range(50):\n",
        "  X_train.append(randint(65,100))\n",
        "  y_train.append(0)\n",
        "print(len(X_train))\n",
        "print(len(y_train))"
      ],
      "metadata": {
        "colab": {
          "base_uri": "https://localhost:8080/"
        },
        "id": "HFQQENyfBwUZ",
        "outputId": "fdcaa9bb-8f0c-48ea-dc83-231611dc1408"
      },
      "execution_count": 4,
      "outputs": [
        {
          "output_type": "stream",
          "name": "stdout",
          "text": [
            "100\n",
            "100\n"
          ]
        }
      ]
    },
    {
      "cell_type": "code",
      "source": [
        "#The ~95% of younger inividuals (13 to 64) who did not experience side effects\n",
        "for i in range(1000):\n",
        "  X_train.append(randint(13,64))\n",
        "  y_train.append(0)\n",
        "print(len(X_train))\n",
        "print(len(y_train))"
      ],
      "metadata": {
        "colab": {
          "base_uri": "https://localhost:8080/"
        },
        "id": "myZ0qS32_3Ly",
        "outputId": "bc6b4aa4-6329-474b-9cba-3edb52721cf1"
      },
      "execution_count": 5,
      "outputs": [
        {
          "output_type": "stream",
          "name": "stdout",
          "text": [
            "1100\n",
            "1100\n"
          ]
        }
      ]
    },
    {
      "cell_type": "code",
      "source": [
        "#The ~95% of older inividuals (65 to 100) who did experience side effects\n",
        "for i in range(1000):\n",
        "  X_train.append(randint(65,100))\n",
        "  y_train.append(1)\n",
        "print(len(X_train))\n",
        "print(len(y_train))"
      ],
      "metadata": {
        "colab": {
          "base_uri": "https://localhost:8080/"
        },
        "id": "IOBkwa_rCxMt",
        "outputId": "0686ba74-b8de-4f04-cd27-f4dc5ef87387"
      },
      "execution_count": 6,
      "outputs": [
        {
          "output_type": "stream",
          "name": "stdout",
          "text": [
            "2100\n",
            "2100\n"
          ]
        }
      ]
    },
    {
      "cell_type": "code",
      "source": [
        "for sample in X_train:\n",
        "  print(sample)"
      ],
      "metadata": {
        "id": "UnTKlQkkDcBd"
      },
      "execution_count": null,
      "outputs": []
    },
    {
      "cell_type": "code",
      "source": [
        "for label in y_train:\n",
        "  print(label)"
      ],
      "metadata": {
        "id": "WrgSaJfqDvT6"
      },
      "execution_count": null,
      "outputs": []
    },
    {
      "cell_type": "code",
      "source": [
        "type(X_train)"
      ],
      "metadata": {
        "id": "2jnzmIv9kuOd",
        "outputId": "f2569203-c329-42f0-c991-0f48039fc1fc",
        "colab": {
          "base_uri": "https://localhost:8080/"
        }
      },
      "execution_count": 9,
      "outputs": [
        {
          "output_type": "execute_result",
          "data": {
            "text/plain": [
              "list"
            ]
          },
          "metadata": {},
          "execution_count": 9
        }
      ]
    },
    {
      "cell_type": "markdown",
      "source": [
        "So we have our data generated. Now we need to process it to be in the format for which we saw the fit function expects, and we discussed the fact that we are going to be passing this data as NumPy arrays to the fit function.\n",
        "So our next step is to go ahead and do that transformation here, where we are taking the\n",
        "train labels list and making that now a NumPy array. Similarly, doing the same thing with the train samples list. "
      ],
      "metadata": {
        "id": "MlcnceOcFUqD"
      }
    },
    {
      "cell_type": "code",
      "source": [
        "X_train=np.array(X_train)\n",
        "y_train=np.array(y_train)"
      ],
      "metadata": {
        "id": "85A_bKItFXlN"
      },
      "execution_count": 10,
      "outputs": []
    },
    {
      "cell_type": "code",
      "source": [
        "type(X_train)"
      ],
      "metadata": {
        "id": "a_PI4aVSk6aY",
        "outputId": "edd6c24d-3a32-49de-f7ad-7ab6564eb5cd",
        "colab": {
          "base_uri": "https://localhost:8080/"
        }
      },
      "execution_count": 18,
      "outputs": [
        {
          "output_type": "execute_result",
          "data": {
            "text/plain": [
              "numpy.ndarray"
            ]
          },
          "metadata": {},
          "execution_count": 18
        }
      ]
    },
    {
      "cell_type": "markdown",
      "source": [
        "And then we use the shuffle function to shuffle both are trained labels and trained samples\n",
        "respective to each other so that we can get rid of any imposed order from the data generation\n",
        "process. "
      ],
      "metadata": {
        "id": "kgBQ6yfDFscw"
      }
    },
    {
      "cell_type": "code",
      "source": [
        "X_train, y_train=shuffle(X_train, y_train)\n",
        "for label in y_train:\n",
        "  print(label)"
      ],
      "metadata": {
        "id": "NGEefRRqF1y_"
      },
      "execution_count": null,
      "outputs": []
    },
    {
      "cell_type": "markdown",
      "source": [
        "Now we are using this min max scalar object to create a feature range ranging from zero to one, which we'll then use in this next line to rescale our data from the current scale of 13 to 100, down to a scale of zero to one, and then this reshaping that we're doing here is just a formality because the fit transform function doesn't accept one D data by default."
      ],
      "metadata": {
        "id": "s8zqEwaXHuWy"
      }
    },
    {
      "cell_type": "code",
      "source": [
        "X_train_normal=MinMaxScaler(feature_range=(0,1)).fit_transform(X_train.reshape(-1,1))\n",
        "print(X_train_normal.shape)"
      ],
      "metadata": {
        "colab": {
          "base_uri": "https://localhost:8080/"
        },
        "id": "71l948OlIBtj",
        "outputId": "f969eb70-853a-4687-999d-02d7c45e92eb"
      },
      "execution_count": 12,
      "outputs": [
        {
          "output_type": "stream",
          "name": "stdout",
          "text": [
            "(2100, 1)\n"
          ]
        }
      ]
    },
    {
      "cell_type": "markdown",
      "source": [
        "Import all the packages"
      ],
      "metadata": {
        "id": "kYIg6zF4sW-o"
      }
    },
    {
      "cell_type": "code",
      "source": [
        "import tensorflow as tf\n",
        "from tensorflow import keras\n",
        "from keras.models import Sequential\n",
        "from keras.layers import Activation, Dense\n",
        "from keras.optimizers import Adam\n",
        "from keras.metrics import categorical_crossentropy"
      ],
      "metadata": {
        "id": "JMzBuj6snz-r"
      },
      "execution_count": 13,
      "outputs": []
    },
    {
      "cell_type": "markdown",
      "source": [
        "We shall build a sequential model. A sequential model is described as a linear stack of layers. It is the most simple model that we can build using Keras or TensorFlow.  \n",
        "So we are initializing the model as an instance of the sequential class."
      ],
      "metadata": {
        "id": "t5ZjFWZqn4NG"
      }
    },
    {
      "cell_type": "code",
      "source": [
        "model=Sequential([\n",
        "    Dense(16, input_shape=(1,), activation='relu'),\n",
        "    Dense(32, activation='relu'),\n",
        "    Dense(2, activation='softmax')\n",
        "])"
      ],
      "metadata": {
        "id": "7Z4DKdOtsUEo"
      },
      "execution_count": 14,
      "outputs": []
    },
    {
      "cell_type": "markdown",
      "source": [
        "Even if we use input_shape=(50,50,3), when keras sends us messages, or when we print the model summary, it will show (None,50,50,3).  \n",
        "The comma is necessary when you have only one dimension. The comma does not create a second dimension. It's just python notation for creating a tuple that contains only one element. input_shape(728,) is the same as batch_input=(batch_size,728). This means that each sample has 728 values."
      ],
      "metadata": {
        "id": "Kh-C_0s1vMSn"
      }
    },
    {
      "cell_type": "code",
      "source": [
        "model.summary()"
      ],
      "metadata": {
        "colab": {
          "base_uri": "https://localhost:8080/"
        },
        "id": "jbCg5reivYcH",
        "outputId": "b543b1a0-6073-4846-ac3e-c13b54fbec59"
      },
      "execution_count": 15,
      "outputs": [
        {
          "output_type": "stream",
          "name": "stdout",
          "text": [
            "Model: \"sequential\"\n",
            "_________________________________________________________________\n",
            " Layer (type)                Output Shape              Param #   \n",
            "=================================================================\n",
            " dense (Dense)               (None, 16)                32        \n",
            "                                                                 \n",
            " dense_1 (Dense)             (None, 32)                544       \n",
            "                                                                 \n",
            " dense_2 (Dense)             (None, 2)                 66        \n",
            "                                                                 \n",
            "=================================================================\n",
            "Total params: 642\n",
            "Trainable params: 642\n",
            "Non-trainable params: 0\n",
            "_________________________________________________________________\n"
          ]
        }
      ]
    },
    {
      "cell_type": "markdown",
      "source": [
        "[model.compile](https://keras.io/api/models/model_training_apis/) Documentation"
      ],
      "metadata": {
        "id": "xMNrcS0E7rHe"
      }
    },
    {
      "cell_type": "code",
      "source": [
        "model.compile(optimizer=Adam(learning_rate=0.0001), loss='sparse_categorical_crossentropy', metrics=['accuracy'])"
      ],
      "metadata": {
        "id": "Q8GpEPHS6e4G"
      },
      "execution_count": 16,
      "outputs": []
    },
    {
      "cell_type": "code",
      "source": [
        "model.fit(x=X_train_normal, y=y_train, validation_split=0.1, batch_size=10, epochs=15, verbose=2, shuffle=True)"
      ],
      "metadata": {
        "id": "KpMjrcZL8-gF"
      },
      "execution_count": null,
      "outputs": []
    }
  ]
}