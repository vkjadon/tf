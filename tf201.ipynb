{
  "nbformat": 4,
  "nbformat_minor": 0,
  "metadata": {
    "colab": {
      "provenance": [],
      "authorship_tag": "ABX9TyNZIIUipR/kF5a0KoXIo0M0",
      "include_colab_link": true
    },
    "kernelspec": {
      "name": "python3",
      "display_name": "Python 3"
    },
    "language_info": {
      "name": "python"
    }
  },
  "cells": [
    {
      "cell_type": "markdown",
      "metadata": {
        "id": "view-in-github",
        "colab_type": "text"
      },
      "source": [
        "<a href=\"https://colab.research.google.com/github/vkjadon/tf/blob/main/tf201.ipynb\" target=\"_parent\"><img src=\"https://colab.research.google.com/assets/colab-badge.svg\" alt=\"Open In Colab\"/></a>"
      ]
    },
    {
      "cell_type": "markdown",
      "source": [
        "import all the packages"
      ],
      "metadata": {
        "id": "l22W6To5342C"
      }
    },
    {
      "cell_type": "code",
      "execution_count": 2,
      "metadata": {
        "id": "PAQMxy1u2dR3"
      },
      "outputs": [],
      "source": [
        "import numpy as np\n",
        "from random import randint\n",
        "from sklearn.utils import shuffle\n",
        "from sklearn.preprocessing import MinMaxScaler"
      ]
    },
    {
      "cell_type": "code",
      "source": [
        "X_train=[]\n",
        "y_train=[]"
      ],
      "metadata": {
        "id": "bxf5d2d5-Cn0"
      },
      "execution_count": 3,
      "outputs": []
    },
    {
      "cell_type": "markdown",
      "source": [
        "Let us suppose that an experimental drug was tested on individuals ranging from age 13 to 100. In a clinical trial, this trial had 2100 participants total, half of these participants were under the age of 65. And half were 65 years or older. And the conclusions from this trial was that around 95% of the patients who were in the older population, the 95% of those patients experienced side effects.\n",
        "And around 95% of patients who were under 65 years old, experienced no side effects.\n"
      ],
      "metadata": {
        "id": "KrXYK_NU3lNP"
      }
    },
    {
      "cell_type": "code",
      "source": [
        "#The ~5% of youger inividuals (13 to 64) who did experience side effects\n",
        "# 1 for side effect and 0 for no side effect\n",
        "for i in range(50):\n",
        "  random_youger=randint(13,64)\n",
        "  X_train.append(random_youger)\n",
        "  y_train.append(1)\n",
        "print(X_train)\n",
        "print(y_train)"
      ],
      "metadata": {
        "colab": {
          "base_uri": "https://localhost:8080/"
        },
        "id": "UDGu6gSd-8Xk",
        "outputId": "67317b84-c152-4c01-a62c-ee61f98dbf65"
      },
      "execution_count": 4,
      "outputs": [
        {
          "output_type": "stream",
          "name": "stdout",
          "text": [
            "[26, 33, 46, 21, 19, 21, 35, 33, 57, 36, 26, 43, 37, 30, 48, 36, 28, 37, 40, 26, 13, 23, 51, 61, 34, 50, 16, 47, 27, 21, 33, 16, 21, 35, 48, 56, 58, 44, 46, 40, 56, 14, 22, 32, 48, 55, 33, 28, 29, 45]\n",
            "[1, 1, 1, 1, 1, 1, 1, 1, 1, 1, 1, 1, 1, 1, 1, 1, 1, 1, 1, 1, 1, 1, 1, 1, 1, 1, 1, 1, 1, 1, 1, 1, 1, 1, 1, 1, 1, 1, 1, 1, 1, 1, 1, 1, 1, 1, 1, 1, 1, 1]\n"
          ]
        }
      ]
    },
    {
      "cell_type": "code",
      "source": [
        "#The ~5% of older inividuals (65 to 100) who did not experience side effects\n",
        "for i in range(50):\n",
        "  X_train.append(randint(65,100))\n",
        "  y_train.append(0)\n",
        "print(len(X_train))\n",
        "print(len(y_train))"
      ],
      "metadata": {
        "colab": {
          "base_uri": "https://localhost:8080/"
        },
        "id": "HFQQENyfBwUZ",
        "outputId": "d24c5f1e-e4ba-4fe0-b273-7842b6dcaa30"
      },
      "execution_count": 5,
      "outputs": [
        {
          "output_type": "stream",
          "name": "stdout",
          "text": [
            "100\n",
            "100\n"
          ]
        }
      ]
    },
    {
      "cell_type": "code",
      "source": [
        "#The ~95% of younger inividuals (13 to 64) who did not experience side effects\n",
        "for i in range(1000):\n",
        "  X_train.append(randint(13,65))\n",
        "  y_train.append(0)\n",
        "print(len(X_train))\n",
        "print(len(y_train))"
      ],
      "metadata": {
        "colab": {
          "base_uri": "https://localhost:8080/"
        },
        "id": "myZ0qS32_3Ly",
        "outputId": "7b8a4a04-b08e-4c8e-993d-f7554091c35e"
      },
      "execution_count": 6,
      "outputs": [
        {
          "output_type": "stream",
          "name": "stdout",
          "text": [
            "1100\n",
            "1100\n"
          ]
        }
      ]
    },
    {
      "cell_type": "code",
      "source": [
        "#The ~95% of older inividuals (65 to 100) who did experience side effects\n",
        "for i in range(1000):\n",
        "  X_train.append(randint(65,100))\n",
        "  y_train.append(1)\n",
        "print(len(X_train))\n",
        "print(len(y_train))"
      ],
      "metadata": {
        "colab": {
          "base_uri": "https://localhost:8080/"
        },
        "id": "IOBkwa_rCxMt",
        "outputId": "68120dbf-c750-44c7-8965-866d352c8206"
      },
      "execution_count": 7,
      "outputs": [
        {
          "output_type": "stream",
          "name": "stdout",
          "text": [
            "2100\n",
            "2100\n"
          ]
        }
      ]
    },
    {
      "cell_type": "code",
      "source": [
        "for sample in X_train:\n",
        "  print(sample)"
      ],
      "metadata": {
        "id": "UnTKlQkkDcBd"
      },
      "execution_count": null,
      "outputs": []
    },
    {
      "cell_type": "code",
      "source": [
        "for label in y_train:\n",
        "  print(label)"
      ],
      "metadata": {
        "id": "WrgSaJfqDvT6"
      },
      "execution_count": null,
      "outputs": []
    },
    {
      "cell_type": "markdown",
      "source": [
        "So we have our data generated. Now we need to process it to be in the format for which we saw the fit function expects, and we discussed the fact that we are going to be passing this data as NumPy arrays to the fit function.\n",
        "So our next step is to go ahead and do that transformation here, where we are taking the\n",
        "train labels list and making that now a NumPy array. Similarly, doing the same thing with the train samples list. "
      ],
      "metadata": {
        "id": "MlcnceOcFUqD"
      }
    },
    {
      "cell_type": "code",
      "source": [
        "X_train=np.array(X_train)\n",
        "y_train=np.array(y_train)"
      ],
      "metadata": {
        "id": "85A_bKItFXlN"
      },
      "execution_count": 10,
      "outputs": []
    },
    {
      "cell_type": "markdown",
      "source": [
        "And then we use the shuffle function to shuffle both are trained labels and trained samples\n",
        "respective to each other so that we can get rid of any imposed order from the data generation\n",
        "process. "
      ],
      "metadata": {
        "id": "kgBQ6yfDFscw"
      }
    },
    {
      "cell_type": "code",
      "source": [
        "X_train, y_train=shuffle(X_train, y_train)\n",
        "for label in y_train:\n",
        "  print(label)"
      ],
      "metadata": {
        "id": "NGEefRRqF1y_"
      },
      "execution_count": null,
      "outputs": []
    },
    {
      "cell_type": "markdown",
      "source": [
        "Now we are using this min max scalar object to create a feature range ranging from zero to one, which we'll then use in this next line to rescale our data from the current scale of 13 to 100, down to a scale of zero to one, and then this reshaping that we're doing here is just a formality because the fit transform function doesn't accept one D data by default."
      ],
      "metadata": {
        "id": "s8zqEwaXHuWy"
      }
    },
    {
      "cell_type": "code",
      "source": [],
      "metadata": {
        "id": "71l948OlIBtj"
      },
      "execution_count": null,
      "outputs": []
    }
  ]
}