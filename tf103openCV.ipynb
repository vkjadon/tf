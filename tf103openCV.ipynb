{
  "nbformat": 4,
  "nbformat_minor": 0,
  "metadata": {
    "colab": {
      "provenance": [],
      "mount_file_id": "https://github.com/vkjadon/tf-CNN/blob/main/tf103openCV.ipynb",
      "authorship_tag": "ABX9TyOSqYnGIVm34lblyiM/+POS",
      "include_colab_link": true
    },
    "kernelspec": {
      "name": "python3",
      "display_name": "Python 3"
    },
    "language_info": {
      "name": "python"
    }
  },
  "cells": [
    {
      "cell_type": "markdown",
      "metadata": {
        "id": "view-in-github",
        "colab_type": "text"
      },
      "source": [
        "<a href=\"https://colab.research.google.com/github/vkjadon/tf-CNN/blob/main/tf103openCV.ipynb\" target=\"_parent\"><img src=\"https://colab.research.google.com/assets/colab-badge.svg\" alt=\"Open In Colab\"/></a>"
      ]
    },
    {
      "cell_type": "code",
      "source": [
        "import cv2\n",
        "import numpy as np\n",
        "from google.colab.patches import cv2_imshow"
      ],
      "metadata": {
        "id": "LR9p1YZXd81n"
      },
      "execution_count": 18,
      "outputs": []
    },
    {
      "cell_type": "code",
      "source": [
        "image_path=\"/content/drive/MyDrive/datasets/dogs-vs-cats/images/cat.10019.jpg\""
      ],
      "metadata": {
        "id": "dWIfrQ_Wp3W4"
      },
      "execution_count": 4,
      "outputs": []
    },
    {
      "cell_type": "code",
      "source": [
        "test_image=cv2.imread(image_path)"
      ],
      "metadata": {
        "id": "5wu-gdyQqMEq"
      },
      "execution_count": 5,
      "outputs": []
    },
    {
      "cell_type": "code",
      "source": [
        "cv2_imshow(test_image)"
      ],
      "metadata": {
        "id": "DoHMUwxzqRUT"
      },
      "execution_count": null,
      "outputs": []
    },
    {
      "cell_type": "code",
      "source": [
        "print('\\nThe Data Type of Image:',test_image.dtype)\n",
        "print('\\nThe Shape of Image:',test_image.shape)\n",
        "print('\\nThe Dimension of Image:',test_image.ndim)\n",
        "print('\\nThe Size of Image(in bytes):',test_image.size)\n",
        "print('\\nThe type of Image Variable:',type(test_image))\n",
        "print('\\nThe Image Matrix or Array(in BGR):\\n',test_image)"
      ],
      "metadata": {
        "id": "FWD8_PrLrAIu"
      },
      "execution_count": null,
      "outputs": []
    },
    {
      "cell_type": "code",
      "source": [
        "red=test_image[:,:,2]\n",
        "green=test_image[:,:,1]\n",
        "blue=test_image[:,:,0]\n",
        "print(red)"
      ],
      "metadata": {
        "id": "fcANs2OJrVEF"
      },
      "execution_count": null,
      "outputs": []
    },
    {
      "cell_type": "code",
      "source": [
        "cv2_imshow(red)\n",
        "cv2_imshow(green)\n",
        "cv2_imshow(blue)"
      ],
      "metadata": {
        "id": "wobRF9tXsQhD"
      },
      "execution_count": null,
      "outputs": []
    },
    {
      "cell_type": "code",
      "source": [
        "#Grayscale conversion factor\n",
        "\n",
        "redGray=red*0.20\n",
        "greenGray=green*0.20\n",
        "blueGray=blue*0.50"
      ],
      "metadata": {
        "id": "xEzspXCputBQ"
      },
      "execution_count": 57,
      "outputs": []
    },
    {
      "cell_type": "code",
      "source": [
        "Gray=np.float16(redGray)+np.float16(greenGray)+np.float16(blueGray)\n",
        "#Gray=redGray+greenGray+blueGray\n",
        "print(Gray.shape)\n",
        "Gray=np.round(Gray,0)\n",
        "Gray=np.uint8(Gray)\n",
        "cv2_imshow(Gray)"
      ],
      "metadata": {
        "id": "exvdcIf6xZN5"
      },
      "execution_count": null,
      "outputs": []
    },
    {
      "cell_type": "code",
      "source": [
        "Gray = cv2.merge([redGray,greenGray,blueGray])\n",
        "print(Gray.shape)\n",
        "Gray=np.round(Gray,0)\n",
        "Gray=np.uint8(Gray)\n",
        "cv2_imshow(Gray)"
      ],
      "metadata": {
        "id": "0oZg4m4DxdPZ"
      },
      "execution_count": null,
      "outputs": []
    },
    {
      "cell_type": "code",
      "source": [
        "rows=int(input('Enter the Height of the Viewer Window: '))\n",
        "cols=int(input('\\nEnter the Width of the Viewer Window: '))\n"
      ],
      "metadata": {
        "colab": {
          "base_uri": "https://localhost:8080/"
        },
        "id": "tJO15JgXsVk-",
        "outputId": "21a4f566-33eb-4308-d3c6-af8ff0cd9206"
      },
      "execution_count": 14,
      "outputs": [
        {
          "name": "stdout",
          "output_type": "stream",
          "text": [
            "Enter the Height of the Viewer Window: 100\n",
            "\n",
            "Enter the Width of the Viewer Window: 200\n"
          ]
        }
      ]
    },
    {
      "cell_type": "code",
      "source": [
        "rows"
      ],
      "metadata": {
        "colab": {
          "base_uri": "https://localhost:8080/"
        },
        "id": "vMoWdZzKteUl",
        "outputId": "0fa67864-09d9-48f9-9a4d-e728fc73f4fc"
      },
      "execution_count": 15,
      "outputs": [
        {
          "output_type": "execute_result",
          "data": {
            "text/plain": [
              "100"
            ]
          },
          "metadata": {},
          "execution_count": 15
        }
      ]
    },
    {
      "cell_type": "code",
      "source": [
        "blueBrightValue=int(input('\\nEnter the Brightness Value of Blue Channel: '))\n",
        "greenBrightValue=int(input('\\nEnter the Brightness Value of Green Channel: '))\n",
        "redBrightValue=int(input('\\nEnter the Brightness Value of Red Channel: '))"
      ],
      "metadata": {
        "colab": {
          "base_uri": "https://localhost:8080/"
        },
        "id": "QXIV9xi3tiGN",
        "outputId": "0184d3d9-8f73-4b72-cd4a-e431ba97c801"
      },
      "execution_count": 16,
      "outputs": [
        {
          "name": "stdout",
          "output_type": "stream",
          "text": [
            "\n",
            "Enter the Brightness Value of Blue Channel: 200\n",
            "\n",
            "Enter the Brightness Value of Green Channel: 10\n",
            "\n",
            "Enter the Brightness Value of Red Channel: 100\n"
          ]
        }
      ]
    },
    {
      "cell_type": "code",
      "source": [
        "#Matrix Generation of B-G-R\n",
        "blueChannel = np.uint8(np.ones([rows,cols])*blueBrightValue)\n",
        "greenChannel = np.uint8(np.ones([rows,cols])*greenBrightValue)     \n",
        "redChannel = np.uint8(np.ones([rows,cols])*redBrightValue)    "
      ],
      "metadata": {
        "id": "rqJqycv7toMq"
      },
      "execution_count": 19,
      "outputs": []
    },
    {
      "cell_type": "code",
      "source": [
        "color = cv2.merge([greenChannel,redChannel,blueChannel])"
      ],
      "metadata": {
        "id": "kbR4FDsFtt5U"
      },
      "execution_count": 72,
      "outputs": []
    },
    {
      "cell_type": "code",
      "source": [
        "cv2_imshow(color)"
      ],
      "metadata": {
        "colab": {
          "base_uri": "https://localhost:8080/",
          "height": 117
        },
        "id": "gO2QQYkqt366",
        "outputId": "f95bc0f6-72e6-4bc8-ce22-f38a15804d5f"
      },
      "execution_count": 93,
      "outputs": [
        {
          "output_type": "display_data",
          "data": {
            "text/plain": [
              "<PIL.Image.Image image mode=RGB size=200x100 at 0x7F4900555D00>"
            ],
            "image/png": "[encoded data removed]"
          },
          "metadata": {}
        }
      ]
    },
    {
      "cell_type": "code",
      "source": [
        "#Specifying Image Path\n",
        "#imagePath=\"/content/drive/MyDrive/datasets/ocvImages/Test Image for Matrix Understanding Case 2.png\"\n",
        "imagePath=\"/content/drive/MyDrive/datasets/ocvImages/Test Image for Image Subtraction Understanding Case 1.png\"\n",
        "#imagePath=\"/content/drive/MyDrive/datasets/ocvImages/Test Image for Image Subtraction Understanding Case 3.png\"\n",
        "#imagePath1=\"testImage.jpg\"\n",
        "#Reading the Image\n",
        "image=cv2.imread(imagePath)\n",
        "cv2_imshow(image)\n",
        "print('The Shape of Image:',image.shape)\n",
        "#print('The Image Matrix or Array(in BGR):\\n',image)"
      ],
      "metadata": {
        "colab": {
          "base_uri": "https://localhost:8080/",
          "height": 52
        },
        "id": "_shd-z6It82Y",
        "outputId": "8b31d51e-5289-410e-ecbc-c94daa351014"
      },
      "execution_count": 108,
      "outputs": [
        {
          "output_type": "display_data",
          "data": {
            "text/plain": [
              "<PIL.Image.Image image mode=RGB size=10x10 at 0x7F4900579CD0>"
            ],
            "image/png": "[encoded data removed]"
          },
          "metadata": {}
        },
        {
          "output_type": "stream",
          "name": "stdout",
          "text": [
            "The Shape of Image: (10, 10, 3)\n"
          ]
        }
      ]
    },
    {
      "cell_type": "code",
      "source": [
        "red=np.matrix(image[:,:,2])\n",
        "green=np.matrix(image[:,:,1])\n",
        "blue=np.matrix(image[:,:,0])\n",
        "print(red)\n",
        "cv2_imshow(red)"
      ],
      "metadata": {
        "id": "SLeHA4vI1roz",
        "outputId": "ec6711ad-37c2-440d-b4b0-2257b75da71a",
        "colab": {
          "base_uri": "https://localhost:8080/",
          "height": 213
        }
      },
      "execution_count": 109,
      "outputs": [
        {
          "output_type": "stream",
          "name": "stdout",
          "text": [
            "[[255 255 255 255 255 255 255 255 255 255]\n",
            " [255 255 255 255 255 255 255 255 255 255]\n",
            " [255 255 255 255   0 255   0 255 255 255]\n",
            " [255 255 255 255   0 255   0 255 255 255]\n",
            " [255 255 255 255   0 255   0 255 255 255]\n",
            " [255 255 255 255   0 255   0 255 255 255]\n",
            " [255 255 255 255   0 255   0 255 255 255]\n",
            " [255 255 255 255   0 255   0 255 255 255]\n",
            " [255 255 255 255 255 255 255 255 255 255]\n",
            " [255 255 255 255 255 255 255 255 255 255]]\n"
          ]
        },
        {
          "output_type": "display_data",
          "data": {
            "text/plain": [
              "<PIL.Image.Image image mode=L size=10x10 at 0x7F4900555F70>"
            ],
            "image/png": "[encoded data removed]"
          },
          "metadata": {}
        }
      ]
    },
    {
      "cell_type": "code",
      "source": [
        "red_only=np.int16(red)-np.int16(green)-np.int16(blue)\n",
        "red_only[red_only<0]=0\n",
        "red_only[red_only>255]=255\n",
        "red_only=np.uint8(red_only)\n",
        "cv2_imshow(red_only)"
      ],
      "metadata": {
        "id": "6ED82Zoa1zAz",
        "outputId": "250ffb23-93bf-49e3-a9ed-c120ce7563bb",
        "colab": {
          "base_uri": "https://localhost:8080/",
          "height": 34
        }
      },
      "execution_count": 110,
      "outputs": [
        {
          "output_type": "display_data",
          "data": {
            "text/plain": [
              "<PIL.Image.Image image mode=L size=10x10 at 0x7F4900518E80>"
            ],
            "image/png": "[encoded data removed]"
          },
          "metadata": {}
        }
      ]
    },
    {
      "cell_type": "code",
      "source": [
        "green_only=np.int16(green)-np.int16(blue)-np.int16(red)\n",
        "print(green_only)\n",
        "green_only[green_only<0]=0\n",
        "green_only[green_only>255]=255\n",
        "green_only=np.uint8(green_only)\n",
        "cv2_imshow(green_only)"
      ],
      "metadata": {
        "id": "lJ4Pnz6e3Fa_"
      },
      "execution_count": null,
      "outputs": []
    },
    {
      "cell_type": "code",
      "source": [
        "blue_only=np.int16(blue)-np.int16(green)-np.int16(red)\n",
        "print(blue_only)\n",
        "blue_only[blue_only<0]=0\n",
        "blue_only[blue_only>255]=255\n",
        "blue_only=np.uint8(blue_only)\n",
        "cv2_imshow(blue_only)"
      ],
      "metadata": {
        "id": "eCXv-nW43wj-"
      },
      "execution_count": null,
      "outputs": []
    },
    {
      "cell_type": "code",
      "source": [
        "print(blue_only)"
      ],
      "metadata": {
        "id": "SEXrX8eb3_jc"
      },
      "execution_count": null,
      "outputs": []
    },
    {
      "cell_type": "code",
      "source": [],
      "metadata": {
        "id": "upNTy6q_4En_"
      },
      "execution_count": 106,
      "outputs": []
    }
  ]
}