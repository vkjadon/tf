{
  "nbformat": 4,
  "nbformat_minor": 0,
  "metadata": {
    "colab": {
      "provenance": [],
      "authorship_tag": "ABX9TyP8OPqJAdv5HlTL4lWbwYWl",
      "include_colab_link": true
    },
    "kernelspec": {
      "name": "python3",
      "display_name": "Python 3"
    },
    "language_info": {
      "name": "python"
    }
  },
  "cells": [
    {
      "cell_type": "markdown",
      "metadata": {
        "id": "view-in-github",
        "colab_type": "text"
      },
      "source": [
        "<a href=\"https://colab.research.google.com/github/vkjadon/tf/blob/main/tf100.ipynb\" target=\"_parent\"><img src=\"https://colab.research.google.com/assets/colab-badge.svg\" alt=\"Open In Colab\"/></a>"
      ]
    },
    {
      "cell_type": "code",
      "source": [
        "import numpy as np\n",
        "# Declare model inputs and outputs for training\n",
        "xs = np.array([-1.0,  0.0, 1.0, 2.0, 3.0, 4.0], dtype=float)\n",
        "ys = np.array([-3.0, -1.0, 1.0, 3.0, 5.0, 7.0], dtype=float)"
      ],
      "metadata": {
        "id": "onwtdxzx4BKe"
      },
      "execution_count": 5,
      "outputs": []
    },
    {
      "cell_type": "markdown",
      "source": [
        "Let us try to create a neural networks to learn the relationship between two numbers `xs` and `ys`. \n",
        "\n",
        "We can try the same by using neural network by feeding with a set of x's and y's, it should be able to figure out the relationship between them. \n",
        "\n",
        "In the neural network approach we can fit any relationship of the data."
      ],
      "metadata": {
        "id": "DFtEQQ1ozXYW"
      }
    },
    {
      "cell_type": "markdown",
      "source": [
        "## Imports\n",
        "\n",
        "Let's import [TensorFlow](https://www.tensorflow.org/) and call it `tf` as a general convention.\n",
        "\n",
        "[`numpy`](https://numpy.org) helps to represent data as arrays and to optimize numerical operations."
      ],
      "metadata": {
        "id": "q4qbJ_C71ELA"
      }
    },
    {
      "cell_type": "code",
      "source": [
        "import tensorflow as tf\n",
        "print(tf.__version__)"
      ],
      "metadata": {
        "id": "GbPe7wQX1iRs",
        "outputId": "5caa9c7e-0e65-4fd5-c8b7-c350481b2776",
        "colab": {
          "base_uri": "https://localhost:8080/"
        }
      },
      "execution_count": 4,
      "outputs": [
        {
          "output_type": "stream",
          "name": "stdout",
          "text": [
            "2.9.2\n"
          ]
        }
      ]
    },
    {
      "cell_type": "markdown",
      "source": [
        "## Define and Compile the Neural Network\n",
        "\n",
        "We will create the simplest possible neural network with 1 layer with 1 neuron, and the input shape to it is just 1 value.    \n",
        "We will build this model using Keras' [Sequential](https://keras.io/api/models/sequential/) class which allows us to define the network as a sequence of [layers](https://keras.io/api/layers/). We can use a single [Dense](https://keras.io/api/layers/core_layers/dense/) layer to build this simple network as shown below."
      ],
      "metadata": {
        "id": "vGE_fmBJ1-ri"
      }
    },
    {
      "cell_type": "code",
      "source": [
        "# Build a simple Sequential model\n",
        "model = tf.keras.Sequential([tf.keras.layers.Dense(1, input_shape=(1,))])"
      ],
      "metadata": {
        "id": "PKwPQ_ku1_bf"
      },
      "execution_count": 6,
      "outputs": []
    },
    {
      "cell_type": "markdown",
      "source": [
        "#model\n",
        "In general, any mathematical construct that processes input data and returns output. Phrased differently, a model is the set of parameters and structure needed for a system to make predictions. In supervised machine learning, a model takes an example as input and infers a prediction as output. Within supervised machine learning, models differ somewhat. For example:\n",
        "\n",
        "- A linear regression model consists of a set of weights and a bias.\n",
        "- A neural network model consists of:\n",
        " - A set of hidden layers, each containing one or more neurons.\n",
        " - The weights and bias associated with each neuron.\n",
        "- A decision tree model consists of:\n",
        " - The shape of the tree; that is, the pattern in which the conditions and leaves are connected.\n",
        " - The conditions and leaves.\n",
        "\n",
        "You can save, restore, or make copies of a model.\n"
      ],
      "metadata": {
        "id": "rBXCwx_U45vN"
      }
    },
    {
      "cell_type": "markdown",
      "source": [
        "The vector of raw (non-normalized) predictions that a classification model generates, which is ordinarily then passed to a normalization function. If the model is solving a multi-class classification problem, logits typically become an input to the softmax function. The softmax function then generates a vector of (normalized) probabilities with one value for each possible class."
      ],
      "metadata": {
        "id": "vM11P4JW5GwH"
      }
    },
    {
      "cell_type": "code",
      "source": [
        "model.summary()"
      ],
      "metadata": {
        "colab": {
          "base_uri": "https://localhost:8080/"
        },
        "id": "jjMq7Fbit5Lt",
        "outputId": "ff1da6e7-933f-4fec-b5b5-fe07f3a01e37"
      },
      "execution_count": 7,
      "outputs": [
        {
          "output_type": "stream",
          "name": "stdout",
          "text": [
            "Model: \"sequential\"\n",
            "_________________________________________________________________\n",
            " Layer (type)                Output Shape              Param #   \n",
            "=================================================================\n",
            " dense (Dense)               (None, 1)                 2         \n",
            "                                                                 \n",
            "=================================================================\n",
            "Total params: 2\n",
            "Trainable params: 2\n",
            "Non-trainable params: 0\n",
            "_________________________________________________________________\n"
          ]
        }
      ]
    },
    {
      "cell_type": "markdown",
      "source": [
        "Now, we need to compile the neural network. The compliation requires to specify 2 functions: a [loss](https://keras.io/api/losses/) and an [optimizer](https://keras.io/api/optimizers/).\n",
        "\n",
        "When the computer try to 'learn' `y=2x-1`, it makes a guess and may assume the function be `y=10x+10`. The `loss` function measures the guessed answers against the known correct answers and measures how well or how badly it did.\n",
        "\n",
        "It then uses the `optimizer` function to make another guess. Based on how the loss function went, it will try to minimize the loss. At that point maybe it will come up with something like `y=5x+5`, which, while still pretty bad, is closer to the correct result (i.e. the loss is lower).\n",
        "\n",
        "It will repeat this for the number of _epochs_ which you will see shortly. But first, here's how you will tell it to use [mean squared error](https://keras.io/api/losses/regression_losses/#meansquarederror-function) for the loss and [stochastic gradient descent](https://keras.io/api/optimizers/sgd/) for the optimizer. You don't need to understand the math for these yet, but you can see that they work!\n",
        "\n",
        "Over time, you will learn the different and appropriate loss and optimizer functions for different scenarios. \n"
      ],
      "metadata": {
        "id": "ggC0k7Qg2t8_"
      }
    },
    {
      "cell_type": "code",
      "source": [
        "model(xs)"
      ],
      "metadata": {
        "id": "k-voAI_R6vrt",
        "outputId": "a93f4a1c-0ab2-4730-a3d6-32e136641b4d",
        "colab": {
          "base_uri": "https://localhost:8080/"
        }
      },
      "execution_count": 8,
      "outputs": [
        {
          "output_type": "execute_result",
          "data": {
            "text/plain": [
              "<tf.Tensor: shape=(6, 1), dtype=float32, numpy=\n",
              "array([[ 1.5450821],\n",
              "       [ 0.       ],\n",
              "       [-1.5450821],\n",
              "       [-3.0901642],\n",
              "       [-4.6352463],\n",
              "       [-6.1803284]], dtype=float32)>"
            ]
          },
          "metadata": {},
          "execution_count": 8
        }
      ]
    },
    {
      "cell_type": "code",
      "source": [
        "# Compile the model\n",
        "model.compile(optimizer='sgd', loss='mean_squared_error')"
      ],
      "metadata": {
        "id": "y0Tijkyn2vF-"
      },
      "execution_count": 9,
      "outputs": []
    },
    {
      "cell_type": "markdown",
      "source": [
        "## Providing the Data\n",
        "\n",
        "Next up, you will feed in some data. In this case, you are taking 6 X's and 6 Y's. You can see that the relationship between these is `y=2x-1`, so where `x = -1`, `y=-3` etc. \n",
        "\n",
        "The de facto standard way of declaring model inputs and outputs is to use `numpy`, a Python library that provides lots of array type data structures. You can specify these values by building numpy arrays with [`np.array()`](https://numpy.org/doc/stable/reference/generated/numpy.array.html)."
      ],
      "metadata": {
        "id": "To0F_oR84Agh"
      }
    },
    {
      "cell_type": "markdown",
      "source": [
        "# Training the Neural Network\n",
        "\n",
        "The process of training the neural network, where it 'learns' the relationship between the x's and y's is in the [`model.fit()`](https://keras.io/api/models/model_training_apis/#fit-method)  call. This is where it will go through the loop we spoke about above: making a guess, measuring how good or bad it is (aka the loss), using the opimizer to make another guess etc. It will do it for the number of `epochs` you specify. When you run this code, you'll see the loss on the right hand side."
      ],
      "metadata": {
        "id": "AYAZsn-04RvN"
      }
    },
    {
      "cell_type": "code",
      "execution_count": 10,
      "metadata": {
        "id": "lpRrl7WK10Pq",
        "outputId": "882dba0e-0802-42f1-e558-40b414db26e4",
        "colab": {
          "base_uri": "https://localhost:8080/"
        }
      },
      "outputs": [
        {
          "output_type": "stream",
          "name": "stdout",
          "text": [
            "Epoch 1/50\n",
            "1/1 [==============================] - 0s 298ms/step - loss: 55.2974\n",
            "Epoch 2/50\n",
            "1/1 [==============================] - 0s 22ms/step - loss: 43.9193\n",
            "Epoch 3/50\n",
            "1/1 [==============================] - 0s 7ms/step - loss: 34.9590\n",
            "Epoch 4/50\n",
            "1/1 [==============================] - 0s 8ms/step - loss: 27.9012\n",
            "Epoch 5/50\n",
            "1/1 [==============================] - 0s 10ms/step - loss: 22.3403\n",
            "Epoch 6/50\n",
            "1/1 [==============================] - 0s 7ms/step - loss: 17.9572\n",
            "Epoch 7/50\n",
            "1/1 [==============================] - 0s 7ms/step - loss: 14.5010\n",
            "Epoch 8/50\n",
            "1/1 [==============================] - 0s 7ms/step - loss: 11.7742\n",
            "Epoch 9/50\n",
            "1/1 [==============================] - 0s 6ms/step - loss: 9.6213\n",
            "Epoch 10/50\n",
            "1/1 [==============================] - 0s 7ms/step - loss: 7.9202\n",
            "Epoch 11/50\n",
            "1/1 [==============================] - 0s 7ms/step - loss: 6.5747\n",
            "Epoch 12/50\n",
            "1/1 [==============================] - 0s 7ms/step - loss: 5.5090\n",
            "Epoch 13/50\n",
            "1/1 [==============================] - 0s 7ms/step - loss: 4.6637\n",
            "Epoch 14/50\n",
            "1/1 [==============================] - 0s 6ms/step - loss: 3.9918\n",
            "Epoch 15/50\n",
            "1/1 [==============================] - 0s 6ms/step - loss: 3.4566\n",
            "Epoch 16/50\n",
            "1/1 [==============================] - 0s 7ms/step - loss: 3.0291\n",
            "Epoch 17/50\n",
            "1/1 [==============================] - 0s 7ms/step - loss: 2.6863\n",
            "Epoch 18/50\n",
            "1/1 [==============================] - 0s 7ms/step - loss: 2.4105\n",
            "Epoch 19/50\n",
            "1/1 [==============================] - 0s 7ms/step - loss: 2.1873\n",
            "Epoch 20/50\n",
            "1/1 [==============================] - 0s 7ms/step - loss: 2.0058\n",
            "Epoch 21/50\n",
            "1/1 [==============================] - 0s 7ms/step - loss: 1.8571\n",
            "Epoch 22/50\n",
            "1/1 [==============================] - 0s 9ms/step - loss: 1.7344\n",
            "Epoch 23/50\n",
            "1/1 [==============================] - 0s 9ms/step - loss: 1.6323\n",
            "Epoch 24/50\n",
            "1/1 [==============================] - 0s 8ms/step - loss: 1.5464\n",
            "Epoch 25/50\n",
            "1/1 [==============================] - 0s 9ms/step - loss: 1.4734\n",
            "Epoch 26/50\n",
            "1/1 [==============================] - 0s 6ms/step - loss: 1.4108\n",
            "Epoch 27/50\n",
            "1/1 [==============================] - 0s 6ms/step - loss: 1.3563\n",
            "Epoch 28/50\n",
            "1/1 [==============================] - 0s 7ms/step - loss: 1.3084\n",
            "Epoch 29/50\n",
            "1/1 [==============================] - 0s 7ms/step - loss: 1.2658\n",
            "Epoch 30/50\n",
            "1/1 [==============================] - 0s 6ms/step - loss: 1.2273\n",
            "Epoch 31/50\n",
            "1/1 [==============================] - 0s 7ms/step - loss: 1.1924\n",
            "Epoch 32/50\n",
            "1/1 [==============================] - 0s 6ms/step - loss: 1.1602\n",
            "Epoch 33/50\n",
            "1/1 [==============================] - 0s 7ms/step - loss: 1.1303\n",
            "Epoch 34/50\n",
            "1/1 [==============================] - 0s 7ms/step - loss: 1.1023\n",
            "Epoch 35/50\n",
            "1/1 [==============================] - 0s 7ms/step - loss: 1.0760\n",
            "Epoch 36/50\n",
            "1/1 [==============================] - 0s 7ms/step - loss: 1.0509\n",
            "Epoch 37/50\n",
            "1/1 [==============================] - 0s 6ms/step - loss: 1.0270\n",
            "Epoch 38/50\n",
            "1/1 [==============================] - 0s 7ms/step - loss: 1.0041\n",
            "Epoch 39/50\n",
            "1/1 [==============================] - 0s 6ms/step - loss: 0.9820\n",
            "Epoch 40/50\n",
            "1/1 [==============================] - 0s 7ms/step - loss: 0.9607\n",
            "Epoch 41/50\n",
            "1/1 [==============================] - 0s 6ms/step - loss: 0.9401\n",
            "Epoch 42/50\n",
            "1/1 [==============================] - 0s 6ms/step - loss: 0.9201\n",
            "Epoch 43/50\n",
            "1/1 [==============================] - 0s 7ms/step - loss: 0.9007\n",
            "Epoch 44/50\n",
            "1/1 [==============================] - 0s 9ms/step - loss: 0.8817\n",
            "Epoch 45/50\n",
            "1/1 [==============================] - 0s 15ms/step - loss: 0.8633\n",
            "Epoch 46/50\n",
            "1/1 [==============================] - 0s 7ms/step - loss: 0.8453\n",
            "Epoch 47/50\n",
            "1/1 [==============================] - 0s 10ms/step - loss: 0.8277\n",
            "Epoch 48/50\n",
            "1/1 [==============================] - 0s 7ms/step - loss: 0.8105\n",
            "Epoch 49/50\n",
            "1/1 [==============================] - 0s 6ms/step - loss: 0.7938\n",
            "Epoch 50/50\n",
            "1/1 [==============================] - 0s 5ms/step - loss: 0.7773\n"
          ]
        },
        {
          "output_type": "execute_result",
          "data": {
            "text/plain": [
              "<keras.callbacks.History at 0x7f274d1b4a10>"
            ]
          },
          "metadata": {},
          "execution_count": 10
        }
      ],
      "source": [
        "# Train the model\n",
        "model.fit(xs, ys, epochs=50)"
      ]
    },
    {
      "cell_type": "markdown",
      "source": [
        "Ok, now you have a model that has been trained to learn the relationship between `x` and `y`. You can use the [`model.predict()`](https://keras.io/api/models/model_training_apis/#predict-method) method to have it figure out the `y` for a previously unknown `x`. So, for example, if `x=10`, what do you think `y` will be? Take a guess before you run this code:"
      ],
      "metadata": {
        "id": "Ap6QQjV15BSN"
      }
    },
    {
      "cell_type": "code",
      "source": [
        "# Make a prediction\n",
        "print(model.predict([10.0]))"
      ],
      "metadata": {
        "id": "JtZb9KO25B3Z",
        "outputId": "8837ee9a-6e8c-4c5c-e44b-08970517bd5a",
        "colab": {
          "base_uri": "https://localhost:8080/"
        }
      },
      "execution_count": 11,
      "outputs": [
        {
          "output_type": "stream",
          "name": "stdout",
          "text": [
            "1/1 [==============================] - 0s 101ms/step\n",
            "[[16.353361]]\n"
          ]
        }
      ]
    },
    {
      "cell_type": "markdown",
      "source": [
        "You might have thought `19`, right? But it ended up being a little under. Why do you think that is? \n",
        "\n",
        "Remember that neural networks deal with probabilities. So given the data that we fed the model with, it calculated that there is a very high probability that the relationship between `x` and `y` is `y=2x-1`, but with only 6 data points we can't know for sure. As a result, the result for 10 is very close to 19, but not necessarily 19.\n",
        "\n",
        "As you work with neural networks, you'll see this pattern recurring. You will almost always deal with probabilities, not certainties, and will do a little bit of coding to figure out what the result is based on the probabilities, particularly when it comes to classification.\n"
      ],
      "metadata": {
        "id": "66FcQTIm5ZvZ"
      }
    },
    {
      "cell_type": "markdown",
      "source": [
        "###Multiple Layers"
      ],
      "metadata": {
        "id": "2AHNTEBEHUko"
      }
    },
    {
      "cell_type": "code",
      "source": [
        "#We can create a Sequential model by passing a list of layers to the Sequential constructor:\n",
        "model = tf.keras.Sequential(\n",
        "    [\n",
        "        tf.keras.layers.Dense(2, input_shape=(6,), activation=\"relu\"),\n",
        "        tf.keras.layers.Dense(3, activation=\"relu\"),\n",
        "        tf.keras.layers.Dense(4),\n",
        "    ]\n",
        ")\n",
        "print(len(model.layers))"
      ],
      "metadata": {
        "colab": {
          "base_uri": "https://localhost:8080/"
        },
        "id": "8RL_IO8Eprzu",
        "outputId": "1022a01f-801d-4b6a-99cb-b69ed67a7f15"
      },
      "execution_count": null,
      "outputs": [
        {
          "output_type": "stream",
          "name": "stdout",
          "text": [
            "3\n"
          ]
        }
      ]
    },
    {
      "cell_type": "code",
      "source": [
        "#We can create a Sequential model incrementally via the add() method:\n",
        "model = tf.keras.Sequential()\n",
        "model.add(tf.keras.layers.Dense(2, activation=\"relu\"))\n",
        "model.add(tf.keras.layers.Dense(3, activation=\"relu\"))\n",
        "model.add(tf.keras.layers.Dense(4))\n",
        "print(len(model.layers))\n",
        "\n",
        "# Call the model on a test input\n",
        "x = tf.ones((2, 4))\n",
        "print(\"Input :\", x)\n",
        "y = model(x)\n",
        "print(\"Number of weights after calling the model:\", len(model.weights))  # 6"
      ],
      "metadata": {
        "id": "fdLs5vUO5ah9",
        "colab": {
          "base_uri": "https://localhost:8080/"
        },
        "outputId": "51d3866d-db26-4e8d-8967-0319e6bf0cb5"
      },
      "execution_count": 12,
      "outputs": [
        {
          "output_type": "stream",
          "name": "stdout",
          "text": [
            "3\n",
            "Input : tf.Tensor(\n",
            "[[1. 1. 1. 1.]\n",
            " [1. 1. 1. 1.]], shape=(2, 4), dtype=float32)\n",
            "Number of weights after calling the model: 6\n"
          ]
        }
      ]
    },
    {
      "cell_type": "code",
      "source": [
        "model.summary()"
      ],
      "metadata": {
        "colab": {
          "base_uri": "https://localhost:8080/"
        },
        "id": "o8Sg51ohrPKi",
        "outputId": "4ce18a25-397e-45a5-b372-a6f0fa68e473"
      },
      "execution_count": null,
      "outputs": [
        {
          "output_type": "stream",
          "name": "stdout",
          "text": [
            "Model: \"sequential_2\"\n",
            "_________________________________________________________________\n",
            " Layer (type)                Output Shape              Param #   \n",
            "=================================================================\n",
            " dense_4 (Dense)             (2, 2)                    10        \n",
            "                                                                 \n",
            " dense_5 (Dense)             (2, 3)                    9         \n",
            "                                                                 \n",
            " dense_6 (Dense)             (2, 4)                    16        \n",
            "                                                                 \n",
            "=================================================================\n",
            "Total params: 35\n",
            "Trainable params: 35\n",
            "Non-trainable params: 0\n",
            "_________________________________________________________________\n"
          ]
        }
      ]
    },
    {
      "cell_type": "markdown",
      "source": [
        "However, it can be very useful when building a Sequential model incrementally to be able to display the summary of the model so far, including the current output shape. In this case, you should start your model by passing an Input object to your model, so that it knows its input shape from the start:"
      ],
      "metadata": {
        "id": "5J7ts9zmsvxz"
      }
    },
    {
      "cell_type": "code",
      "source": [
        "model = tf.keras.Sequential()\n",
        "model.add(tf.keras.Input(shape=(4,)))\n",
        "model.add(tf.keras.layers.Dense(2, activation=\"relu\"))\n",
        "\n",
        "model.summary()"
      ],
      "metadata": {
        "colab": {
          "base_uri": "https://localhost:8080/"
        },
        "id": "UoCq3SYlswk2",
        "outputId": "8fc20809-653d-409c-ce6b-4bb1c4f03dd4"
      },
      "execution_count": null,
      "outputs": [
        {
          "output_type": "stream",
          "name": "stdout",
          "text": [
            "Model: \"sequential_3\"\n",
            "_________________________________________________________________\n",
            " Layer (type)                Output Shape              Param #   \n",
            "=================================================================\n",
            " dense_7 (Dense)             (None, 2)                 10        \n",
            "                                                                 \n",
            "=================================================================\n",
            "Total params: 10\n",
            "Trainable params: 10\n",
            "Non-trainable params: 0\n",
            "_________________________________________________________________\n"
          ]
        }
      ]
    },
    {
      "cell_type": "markdown",
      "source": [
        "A simple alternative is to just pass an input_shape argument to your first layer:\n"
      ],
      "metadata": {
        "id": "rFgPhSXitBxS"
      }
    },
    {
      "cell_type": "code",
      "source": [
        "model = tf.keras.Sequential()\n",
        "model.add(tf.keras.layers.Dense(2, activation=\"relu\", input_shape=(4,)))\n",
        "model.summary()"
      ],
      "metadata": {
        "colab": {
          "base_uri": "https://localhost:8080/"
        },
        "id": "9kO9fal0tCjk",
        "outputId": "512e0a50-8903-4413-a685-2c4a6fae7875"
      },
      "execution_count": null,
      "outputs": [
        {
          "output_type": "stream",
          "name": "stdout",
          "text": [
            "Model: \"sequential_4\"\n",
            "_________________________________________________________________\n",
            " Layer (type)                Output Shape              Param #   \n",
            "=================================================================\n",
            " dense_8 (Dense)             (None, 2)                 10        \n",
            "                                                                 \n",
            "=================================================================\n",
            "Total params: 10\n",
            "Trainable params: 10\n",
            "Non-trainable params: 0\n",
            "_________________________________________________________________\n"
          ]
        }
      ]
    },
    {
      "cell_type": "markdown",
      "source": [
        "Models built with a predefined input shape like this always have weights (even before seeing any data) and always have a defined output shape.\n",
        "\n",
        "In general, it's a recommended best practice to always specify the input shape of a Sequential model in advance if you know what it is."
      ],
      "metadata": {
        "id": "IVT0lVOctsBE"
      }
    },
    {
      "cell_type": "code",
      "source": [
        "# Optionally, the first layer can receive an `input_shape` argument:\n",
        "model = tf.keras.Sequential()\n",
        "model.add(tf.keras.layers.Dense(8, input_shape=(16,)))\n",
        "# Afterwards, we do automatic shape inference:\n",
        "model.add(tf.keras.layers.Dense(4))"
      ],
      "metadata": {
        "id": "7WCB5yav3ZGm"
      },
      "execution_count": null,
      "outputs": []
    },
    {
      "cell_type": "code",
      "source": [
        "# This is identical to the following:\n",
        "model = tf.keras.Sequential()\n",
        "model.add(tf.keras.Input(shape=(16,)))\n",
        "model.add(tf.keras.layers.Dense(8))\n"
      ],
      "metadata": {
        "id": "f3yrcUYe3cFZ"
      },
      "execution_count": null,
      "outputs": []
    },
    {
      "cell_type": "code",
      "source": [
        "# Note that you can also omit the `input_shape` argument.\n",
        "# In that case the model doesn't have any weights until the first call\n",
        "# to a training/evaluation method (since it isn't yet built):\n",
        "model = tf.keras.Sequential()\n",
        "model.add(tf.keras.layers.Dense(8))\n",
        "model.add(tf.keras.layers.Dense(4))\n",
        "# model.weights not created yet\n"
      ],
      "metadata": {
        "id": "XSwL72g33eZ9"
      },
      "execution_count": null,
      "outputs": []
    },
    {
      "cell_type": "code",
      "source": [
        "# Whereas if you specify the input shape, the model gets built\n",
        "# continuously as you are adding layers:\n",
        "model = tf.keras.Sequential()\n",
        "model.add(tf.keras.layers.Dense(8, input_shape=(16,)))\n",
        "model.add(tf.keras.layers.Dense(4))\n",
        "len(model.weights)\n",
        "# Returns \"4\"\n"
      ],
      "metadata": {
        "id": "GEB-BKaQ3hCi",
        "outputId": "8a27d448-8337-4e8d-b5bb-ff334471bc30",
        "colab": {
          "base_uri": "https://localhost:8080/"
        }
      },
      "execution_count": null,
      "outputs": [
        {
          "output_type": "execute_result",
          "data": {
            "text/plain": [
              "4"
            ]
          },
          "metadata": {},
          "execution_count": 16
        }
      ]
    },
    {
      "cell_type": "code",
      "source": [
        "# When using the delayed-build pattern (no input shape specified), you can\n",
        "# choose to manually build your model by calling\n",
        "# `build(batch_input_shape)`:\n",
        "model = tf.keras.Sequential()\n",
        "model.add(tf.keras.layers.Dense(8))\n",
        "model.add(tf.keras.layers.Dense(4))\n",
        "model.build((None, 16))\n",
        "len(model.weights)\n",
        "# Returns \"4\""
      ],
      "metadata": {
        "id": "gmtorDUr3krf",
        "outputId": "24fd7af4-a951-4d1d-b2e1-052c1d50e384",
        "colab": {
          "base_uri": "https://localhost:8080/"
        }
      },
      "execution_count": null,
      "outputs": [
        {
          "output_type": "execute_result",
          "data": {
            "text/plain": [
              "4"
            ]
          },
          "metadata": {},
          "execution_count": 17
        }
      ]
    },
    {
      "cell_type": "code",
      "source": [
        "# Note that when using the delayed-build pattern (no input shape specified),\n",
        "# the model gets built the first time you call `fit`, `eval`, or `predict`,\n",
        "# or the first time you call the model on some input data.\n",
        "model = tf.keras.Sequential()\n",
        "model.add(tf.keras.layers.Dense(8))\n",
        "model.add(tf.keras.layers.Dense(1))\n",
        "model.compile(optimizer='sgd', loss='mse')\n",
        "# This builds the model for the first time:\n",
        "model.fit(x, y, batch_size=32, epochs=10)"
      ],
      "metadata": {
        "id": "gmTnUSVL1HLO",
        "colab": {
          "base_uri": "https://localhost:8080/"
        },
        "outputId": "f308a8dc-d9e3-4fa2-a0b3-ed70f05f02da"
      },
      "execution_count": null,
      "outputs": [
        {
          "output_type": "stream",
          "name": "stdout",
          "text": [
            "Epoch 1/10\n",
            "1/1 [==============================] - 0s 379ms/step - loss: 0.2187\n",
            "Epoch 2/10\n",
            "1/1 [==============================] - 0s 10ms/step - loss: 0.1851\n",
            "Epoch 3/10\n",
            "1/1 [==============================] - 0s 12ms/step - loss: 0.1661\n",
            "Epoch 4/10\n",
            "1/1 [==============================] - 0s 9ms/step - loss: 0.1554\n",
            "Epoch 5/10\n",
            "1/1 [==============================] - 0s 9ms/step - loss: 0.1494\n",
            "Epoch 6/10\n",
            "1/1 [==============================] - 0s 8ms/step - loss: 0.1460\n",
            "Epoch 7/10\n",
            "1/1 [==============================] - 0s 8ms/step - loss: 0.1441\n",
            "Epoch 8/10\n",
            "1/1 [==============================] - 0s 14ms/step - loss: 0.1430\n",
            "Epoch 9/10\n",
            "1/1 [==============================] - 0s 10ms/step - loss: 0.1424\n",
            "Epoch 10/10\n",
            "1/1 [==============================] - 0s 11ms/step - loss: 0.1420\n"
          ]
        },
        {
          "output_type": "execute_result",
          "data": {
            "text/plain": [
              "<keras.callbacks.History at 0x7fd4b8686490>"
            ]
          },
          "metadata": {},
          "execution_count": 18
        }
      ]
    }
  ]
}
