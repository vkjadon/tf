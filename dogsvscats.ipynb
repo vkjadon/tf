{
  "nbformat": 4,
  "nbformat_minor": 0,
  "metadata": {
    "colab": {
      "provenance": [],
      "authorship_tag": "ABX9TyOhB4OIubqoLM/5eysYWTZs",
      "include_colab_link": true
    },
    "kernelspec": {
      "name": "python3",
      "display_name": "Python 3"
    },
    "language_info": {
      "name": "python"
    }
  },
  "cells": [
    {
      "cell_type": "markdown",
      "metadata": {
        "id": "view-in-github",
        "colab_type": "text"
      },
      "source": [
        "<a href=\"https://colab.research.google.com/github/vkjadon/tf/blob/main/dogsvscats.ipynb\" target=\"_parent\"><img src=\"https://colab.research.google.com/assets/colab-badge.svg\" alt=\"Open In Colab\"/></a>"
      ]
    },
    {
      "cell_type": "code",
      "execution_count": 12,
      "metadata": {
        "id": "5RgqK_V5l_Js"
      },
      "outputs": [],
      "source": [
        "import numpy as np\n",
        "import pandas as pd \n",
        "from sklearn.model_selection import train_test_split\n",
        "import matplotlib.pyplot as plt\n",
        "import random\n",
        "import os\n",
        "import shutil\n",
        "import glob\n",
        "\n",
        "import seaborn as sns\n",
        "import tensorflow as tf\n",
        "from keras.preprocessing.image import ImageDataGenerator\n",
        "from keras.utils import to_categorical"
      ]
    },
    {
      "cell_type": "code",
      "source": [
        "!mkdir ~/.kaggle "
      ],
      "metadata": {
        "id": "f7ICvQZ1nNaG"
      },
      "execution_count": 2,
      "outputs": []
    },
    {
      "cell_type": "code",
      "source": [
        "!cp kaggle.json ~/.kaggle/"
      ],
      "metadata": {
        "id": "3UTPYJBpnOF0"
      },
      "execution_count": 8,
      "outputs": []
    },
    {
      "cell_type": "code",
      "source": [
        "!kaggle competitions download -c dogs-vs-cats"
      ],
      "metadata": {
        "colab": {
          "base_uri": "https://localhost:8080/"
        },
        "id": "ZEZptWM0sYb-",
        "outputId": "befc3dc1-41aa-4d22-d91b-a8761089d270"
      },
      "execution_count": 9,
      "outputs": [
        {
          "output_type": "stream",
          "name": "stdout",
          "text": [
            "Warning: Your Kaggle API key is readable by other users on this system! To fix this, you can run 'chmod 600 /root/.kaggle/kaggle.json'\n",
            "Downloading dogs-vs-cats.zip to /content\n",
            " 97% 789M/812M [00:03<00:00, 237MB/s]\n",
            "100% 812M/812M [00:03<00:00, 228MB/s]\n"
          ]
        }
      ]
    },
    {
      "cell_type": "code",
      "source": [
        "!unzip dogs-vs-cats.zip"
      ],
      "metadata": {
        "colab": {
          "base_uri": "https://localhost:8080/"
        },
        "id": "ZcQAO5RUtBei",
        "outputId": "28458f84-257d-49b7-e50a-d801881215b5"
      },
      "execution_count": 10,
      "outputs": [
        {
          "output_type": "stream",
          "name": "stdout",
          "text": [
            "Archive:  dogs-vs-cats.zip\n",
            "  inflating: sampleSubmission.csv    \n",
            "  inflating: test1.zip               \n",
            "  inflating: train.zip               \n"
          ]
        }
      ]
    },
    {
      "cell_type": "code",
      "source": [
        "!unzip train.zip"
      ],
      "metadata": {
        "id": "r8cbIsLRtMoR"
      },
      "execution_count": null,
      "outputs": []
    },
    {
      "cell_type": "code",
      "source": [
        "if os.path.isdir('train/dog') is False:\n",
        "  os.makedirs('train/dog')\n",
        "if os.path.isdir('train/cat') is False:\n",
        "  os.makedirs('train/cat')\n",
        "if os.path.isdir('valid/dog') is False:\n",
        "  os.makedirs('valid/dog')\n",
        "if os.path.isdir('valid/cat') is False:\n",
        "  os.makedirs('valid/cat')\n",
        "if os.path.isdir('test/dog') is False:\n",
        "  os.makedirs('test/dog')\n",
        "if os.path.isdir('test/cat') is False:\n",
        "  os.makedirs('test/cat')"
      ],
      "metadata": {
        "id": "edoh-O3BtzMe"
      },
      "execution_count": 13,
      "outputs": []
    },
    {
      "cell_type": "code",
      "source": [
        "%cd train"
      ],
      "metadata": {
        "colab": {
          "base_uri": "https://localhost:8080/"
        },
        "id": "_H8Wh5iWvPCC",
        "outputId": "23bed422-cf15-4215-890b-7d376a4d6400"
      },
      "execution_count": 31,
      "outputs": [
        {
          "output_type": "stream",
          "name": "stdout",
          "text": [
            "/content/train\n"
          ]
        }
      ]
    },
    {
      "cell_type": "code",
      "source": [
        "filename=glob.glob('cat*')\n",
        "print(len(filename))"
      ],
      "metadata": {
        "colab": {
          "base_uri": "https://localhost:8080/"
        },
        "id": "Vuxz58mYx-sf",
        "outputId": "12410741-543f-4c18-9829-599d03afa58a"
      },
      "execution_count": 32,
      "outputs": [
        {
          "output_type": "stream",
          "name": "stdout",
          "text": [
            "11001\n"
          ]
        }
      ]
    },
    {
      "cell_type": "code",
      "source": [
        "%cd ../"
      ],
      "metadata": {
        "colab": {
          "base_uri": "https://localhost:8080/"
        },
        "id": "OTytYzFszS8X",
        "outputId": "5020b61b-0bcb-42b1-8f75-281d34f31c1d"
      },
      "execution_count": 21,
      "outputs": [
        {
          "output_type": "stream",
          "name": "stdout",
          "text": [
            "/content\n"
          ]
        }
      ]
    },
    {
      "cell_type": "code",
      "source": [
        "#for c in random.sample(glob.glob('cat*'),11001):\n",
        "#  shutil.move(c,'cat')"
      ],
      "metadata": {
        "id": "ytm0xLf0u22H"
      },
      "execution_count": 35,
      "outputs": []
    }
  ]
}