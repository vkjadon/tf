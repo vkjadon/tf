{
  "nbformat": 4,
  "nbformat_minor": 0,
  "metadata": {
    "colab": {
      "provenance": [],
      "mount_file_id": "1YVlm_5wndTsfnh1FCDEu-dLik02A4r-m",
      "authorship_tag": "ABX9TyPntgQMwNoQCJ3Tvv+xEFsH",
      "include_colab_link": true
    },
    "kernelspec": {
      "name": "python3",
      "display_name": "Python 3"
    },
    "language_info": {
      "name": "python"
    }
  },
  "cells": [
    {
      "cell_type": "markdown",
      "metadata": {
        "id": "view-in-github",
        "colab_type": "text"
      },
      "source": [
        "<a href=\"https://colab.research.google.com/github/vkjadon/tf/blob/main/tf202.ipynb\" target=\"_parent\"><img src=\"https://colab.research.google.com/assets/colab-badge.svg\" alt=\"Open In Colab\"/></a>"
      ]
    },
    {
      "cell_type": "markdown",
      "source": [
        "- download dog-vs-cat dataset from kaggle competition\n",
        "- upload the downloded dataset to 'datasets' folder on the drive\n",
        "- unzip the `dogs-vs-cats.zip` \n",
        "- The unzipped folder will have two `zip` files and one `csv` file.\n",
        "- For this example, let us unzip only `train.zip`.\n",
        "- Move all the images to a another folder named `images` in `dogs-vs-cats` folder."
      ],
      "metadata": {
        "id": "xk18ry0CnAKo"
      }
    },
    {
      "cell_type": "code",
      "execution_count": 1,
      "metadata": {
        "id": "Cmozp1f7JlDa"
      },
      "outputs": [],
      "source": [
        "import numpy as np\n",
        "import pandas as pd \n",
        "from sklearn.model_selection import train_test_split\n",
        "import matplotlib.pyplot as plt\n",
        "import random\n",
        "import os\n",
        "import shutil\n",
        "import glob"
      ]
    },
    {
      "cell_type": "markdown",
      "source": [
        "- OS: This module provides a portable way of using operating system dependent functionality.  \n",
        "- Shutil: The shutil module offers a number of high-level operations on files and collections of files. In particular, functions are provided which support file copying and removal.\n",
        "- Glob: The glob module finds all the pathnames matching a specified pattern according to the rules used by the Unix shell, although results are returned in arbitrary order."
      ],
      "metadata": {
        "id": "6FG_TwbdtjQK"
      }
    },
    {
      "cell_type": "code",
      "source": [
        "!pwd\n",
        "!ls"
      ],
      "metadata": {
        "colab": {
          "base_uri": "https://localhost:8080/"
        },
        "id": "Nh6-OX2FjD-d",
        "outputId": "12768666-d76f-4c64-a81a-b744b41d5632"
      },
      "execution_count": 5,
      "outputs": [
        {
          "output_type": "stream",
          "name": "stdout",
          "text": [
            "/content\n",
            "drive  sample_data\n"
          ]
        }
      ]
    },
    {
      "cell_type": "code",
      "source": [
        "%cd drive/MyDrive/datasets"
      ],
      "metadata": {
        "colab": {
          "base_uri": "https://localhost:8080/"
        },
        "id": "kJ09DmyrjS0D",
        "outputId": "1719e623-6894-4212-ea9e-ef2833c81206"
      },
      "execution_count": 7,
      "outputs": [
        {
          "output_type": "stream",
          "name": "stdout",
          "text": [
            "/content/drive/MyDrive/datasets\n"
          ]
        }
      ]
    },
    {
      "cell_type": "code",
      "source": [
        "!pwd"
      ],
      "metadata": {
        "colab": {
          "base_uri": "https://localhost:8080/"
        },
        "id": "KrjMtnJOjmHy",
        "outputId": "d5046c04-1f80-4593-8476-0a54e83c8097"
      },
      "execution_count": 8,
      "outputs": [
        {
          "output_type": "stream",
          "name": "stdout",
          "text": [
            "/content/drive/MyDrive/datasets\n"
          ]
        }
      ]
    },
    {
      "cell_type": "code",
      "source": [
        "os.chdir('dog-vs-cat')"
      ],
      "metadata": {
        "id": "ccpk4-dDjpQ7"
      },
      "execution_count": 9,
      "outputs": []
    },
    {
      "cell_type": "code",
      "source": [
        "if os.path.isdir('train/dog') is False:\n",
        "  os.makedirs('train/dog')\n",
        "if os.path.isdir('train/cat') is False:\n",
        "  os.makedirs('train/cat')\n",
        "if os.path.isdir('valid/dog') is False:\n",
        "  os.makedirs('valid/dog')\n",
        "if os.path.isdir('valid/cat') is False:\n",
        "  os.makedirs('valid/cat')\n",
        "if os.path.isdir('test/dog') is False:\n",
        "  os.makedirs('test/dog')\n",
        "if os.path.isdir('test/cat') is False:\n",
        "  os.makedirs('test/cat')"
      ],
      "metadata": {
        "id": "ffl1d3XxkM7o"
      },
      "execution_count": 13,
      "outputs": []
    },
    {
      "cell_type": "code",
      "source": [
        "count = 0\n",
        "for path in os.scandir('images'):\n",
        "    if path.is_file():\n",
        "        count += 1\n",
        "print('file count:', count)"
      ],
      "metadata": {
        "colab": {
          "base_uri": "https://localhost:8080/"
        },
        "id": "K26VsWq2wOVJ",
        "outputId": "473ea722-965f-45c4-8549-963a72f3ff25"
      },
      "execution_count": 50,
      "outputs": [
        {
          "output_type": "stream",
          "name": "stdout",
          "text": [
            "file count: 959\n"
          ]
        }
      ]
    },
    {
      "cell_type": "code",
      "source": [
        "filename=glob.glob('images/*')\n",
        "print(len(filename))\n",
        "filename=glob.glob('images/cat*')\n",
        "print(len(filename))"
      ],
      "metadata": {
        "colab": {
          "base_uri": "https://localhost:8080/"
        },
        "id": "95kMIelh33F7",
        "outputId": "e7d94374-f052-4457-bdd6-37a2da14107d"
      },
      "execution_count": 65,
      "outputs": [
        {
          "output_type": "stream",
          "name": "stdout",
          "text": [
            "999\n",
            "487\n"
          ]
        }
      ]
    },
    {
      "cell_type": "code",
      "source": [
        "#for c in random.sample(glob.glob('images/cat*'), 1):\n",
        "#  shutil.move(c,'train/cat')"
      ],
      "metadata": {
        "id": "42_Cw7KVlqNG"
      },
      "execution_count": 46,
      "outputs": []
    },
    {
      "cell_type": "code",
      "source": [
        "import tensorflow as tf\n",
        "from tensorflow import keras\n",
        "from keras.models import Sequential\n",
        "from keras.layers import Activation, Dense\n",
        "from keras.optimizers import Adam\n",
        "from keras.preprocessing.image import ImageDataGenerator, load_img\n",
        "from keras.metrics import categorical_crossentropy"
      ],
      "metadata": {
        "id": "JOwt8mgJiOnq"
      },
      "execution_count": null,
      "outputs": []
    },
    {
      "cell_type": "code",
      "source": [],
      "metadata": {
        "id": "3q0keM1wrrvM"
      },
      "execution_count": null,
      "outputs": []
    },
    {
      "cell_type": "markdown",
      "source": [
        "[Image Data Generator](https://www.tensorflow.org/api_docs/python/tf/keras/preprocessing/image/ImageDataGenerator)"
      ],
      "metadata": {
        "id": "cN8CSnedxEGk"
      }
    },
    {
      "cell_type": "code",
      "source": [],
      "metadata": {
        "id": "ZwIdu47ExLV-"
      },
      "execution_count": null,
      "outputs": []
    }
  ]
}
